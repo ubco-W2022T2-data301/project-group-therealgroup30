{
 "cells": [
  {
   "cell_type": "markdown",
   "metadata": {},
   "source": [
    "# Will Garbutt"
   ]
  },
  {
   "cell_type": "markdown",
   "metadata": {},
   "source": [
    "## Research question/interests\n",
    "\n",
    "**What is the Relationship between mortgage affordability and metroplolitan area population?**\n",
    "\n",
    "To answer this question/visualize it I would find the average mortgage affortability of each area and plot them against their respective population rank. This could be shown with a bar plot.\n",
    "\n",
    "**How does mortgage afforability change with time for differnt tiers? Do all tiers follow the same trend or do they have their own?**\n",
    "\n",
    "Average each tier over all areas and plot each one against time and see how they compare to eachother.\n",
    "\n",
    "\n",
    "# EDA\n",
    " "
   ]
  },
  {
   "cell_type": "code",
   "execution_count": null,
   "metadata": {},
   "outputs": [],
   "source": [
    "import pandas as pd\n",
    "import numpy as np\n",
    "import seaborn as sns\n",
    "import matplotlib as plt"
   ]
  },
  {
   "cell_type": "code",
   "execution_count": null,
   "metadata": {},
   "outputs": [
    {
     "data": {
      "text/html": [
       "<div>\n",
       "<style scoped>\n",
       "    .dataframe tbody tr th:only-of-type {\n",
       "        vertical-align: middle;\n",
       "    }\n",
       "\n",
       "    .dataframe tbody tr th {\n",
       "        vertical-align: top;\n",
       "    }\n",
       "\n",
       "    .dataframe thead th {\n",
       "        text-align: right;\n",
       "    }\n",
       "</style>\n",
       "<table border=\"1\" class=\"dataframe\">\n",
       "  <thead>\n",
       "    <tr style=\"text-align: right;\">\n",
       "      <th></th>\n",
       "      <th>RegionID</th>\n",
       "      <th>RegionName</th>\n",
       "      <th>PopRank</th>\n",
       "      <th>tier</th>\n",
       "      <th>1999-06-30</th>\n",
       "      <th>1999-09-30</th>\n",
       "      <th>1999-12-31</th>\n",
       "      <th>2000-03-31</th>\n",
       "      <th>2000-06-30</th>\n",
       "      <th>2000-09-30</th>\n",
       "      <th>...</th>\n",
       "      <th>2014-03-31</th>\n",
       "      <th>2014-06-30</th>\n",
       "      <th>2014-09-30</th>\n",
       "      <th>2014-12-31</th>\n",
       "      <th>2015-03-31</th>\n",
       "      <th>2015-06-30</th>\n",
       "      <th>2015-09-30</th>\n",
       "      <th>2015-12-31</th>\n",
       "      <th>2016-03-31</th>\n",
       "      <th>2016-06-30</th>\n",
       "    </tr>\n",
       "  </thead>\n",
       "  <tbody>\n",
       "    <tr>\n",
       "      <th>0</th>\n",
       "      <td>102001</td>\n",
       "      <td>United States</td>\n",
       "      <td>0</td>\n",
       "      <td>Bottom Tier</td>\n",
       "      <td>0.300007</td>\n",
       "      <td>0.315030</td>\n",
       "      <td>0.316834</td>\n",
       "      <td>0.334600</td>\n",
       "      <td>0.343596</td>\n",
       "      <td>0.337009</td>\n",
       "      <td>...</td>\n",
       "      <td>0.218583</td>\n",
       "      <td>0.214530</td>\n",
       "      <td>0.216564</td>\n",
       "      <td>0.216521</td>\n",
       "      <td>0.213811</td>\n",
       "      <td>0.219128</td>\n",
       "      <td>0.226646</td>\n",
       "      <td>0.231051</td>\n",
       "      <td>0.226693</td>\n",
       "      <td>0.230251</td>\n",
       "    </tr>\n",
       "    <tr>\n",
       "      <th>1</th>\n",
       "      <td>102001</td>\n",
       "      <td>United States</td>\n",
       "      <td>0</td>\n",
       "      <td>Middle Tier</td>\n",
       "      <td>0.183958</td>\n",
       "      <td>0.191210</td>\n",
       "      <td>0.196901</td>\n",
       "      <td>0.206566</td>\n",
       "      <td>0.210426</td>\n",
       "      <td>0.204491</td>\n",
       "      <td>...</td>\n",
       "      <td>0.151174</td>\n",
       "      <td>0.148104</td>\n",
       "      <td>0.147641</td>\n",
       "      <td>0.142041</td>\n",
       "      <td>0.140656</td>\n",
       "      <td>0.145460</td>\n",
       "      <td>0.144927</td>\n",
       "      <td>0.146747</td>\n",
       "      <td>0.142884</td>\n",
       "      <td>0.142414</td>\n",
       "    </tr>\n",
       "    <tr>\n",
       "      <th>2</th>\n",
       "      <td>102001</td>\n",
       "      <td>United States</td>\n",
       "      <td>0</td>\n",
       "      <td>Upper Tier</td>\n",
       "      <td>0.147950</td>\n",
       "      <td>0.155872</td>\n",
       "      <td>0.157198</td>\n",
       "      <td>0.166470</td>\n",
       "      <td>0.171481</td>\n",
       "      <td>0.168676</td>\n",
       "      <td>...</td>\n",
       "      <td>0.118414</td>\n",
       "      <td>0.116467</td>\n",
       "      <td>0.116019</td>\n",
       "      <td>0.114419</td>\n",
       "      <td>0.111791</td>\n",
       "      <td>0.112807</td>\n",
       "      <td>0.114031</td>\n",
       "      <td>0.114362</td>\n",
       "      <td>0.110954</td>\n",
       "      <td>0.110559</td>\n",
       "    </tr>\n",
       "    <tr>\n",
       "      <th>3</th>\n",
       "      <td>394347</td>\n",
       "      <td>Atlanta, GA</td>\n",
       "      <td>9</td>\n",
       "      <td>Bottom Tier</td>\n",
       "      <td>0.252002</td>\n",
       "      <td>0.267823</td>\n",
       "      <td>0.273127</td>\n",
       "      <td>0.293248</td>\n",
       "      <td>0.303532</td>\n",
       "      <td>0.299580</td>\n",
       "      <td>...</td>\n",
       "      <td>0.152979</td>\n",
       "      <td>0.153131</td>\n",
       "      <td>0.156237</td>\n",
       "      <td>0.157940</td>\n",
       "      <td>0.156826</td>\n",
       "      <td>0.163094</td>\n",
       "      <td>0.169798</td>\n",
       "      <td>0.174702</td>\n",
       "      <td>0.171642</td>\n",
       "      <td>0.173135</td>\n",
       "    </tr>\n",
       "    <tr>\n",
       "      <th>4</th>\n",
       "      <td>394347</td>\n",
       "      <td>Atlanta, GA</td>\n",
       "      <td>9</td>\n",
       "      <td>Middle Tier</td>\n",
       "      <td>0.164372</td>\n",
       "      <td>0.171317</td>\n",
       "      <td>0.176344</td>\n",
       "      <td>0.183898</td>\n",
       "      <td>0.185946</td>\n",
       "      <td>0.181044</td>\n",
       "      <td>...</td>\n",
       "      <td>0.118612</td>\n",
       "      <td>0.117381</td>\n",
       "      <td>0.117480</td>\n",
       "      <td>0.113326</td>\n",
       "      <td>0.113214</td>\n",
       "      <td>0.117454</td>\n",
       "      <td>0.118066</td>\n",
       "      <td>0.120754</td>\n",
       "      <td>0.117895</td>\n",
       "      <td>0.117187</td>\n",
       "    </tr>\n",
       "  </tbody>\n",
       "</table>\n",
       "<p>5 rows × 73 columns</p>\n",
       "</div>"
      ],
      "text/plain": [
       "   RegionID     RegionName  PopRank         tier  1999-06-30  1999-09-30  \\\n",
       "0    102001  United States        0  Bottom Tier    0.300007    0.315030   \n",
       "1    102001  United States        0  Middle Tier    0.183958    0.191210   \n",
       "2    102001  United States        0   Upper Tier    0.147950    0.155872   \n",
       "3    394347    Atlanta, GA        9  Bottom Tier    0.252002    0.267823   \n",
       "4    394347    Atlanta, GA        9  Middle Tier    0.164372    0.171317   \n",
       "\n",
       "   1999-12-31  2000-03-31  2000-06-30  2000-09-30  ...  2014-03-31  \\\n",
       "0    0.316834    0.334600    0.343596    0.337009  ...    0.218583   \n",
       "1    0.196901    0.206566    0.210426    0.204491  ...    0.151174   \n",
       "2    0.157198    0.166470    0.171481    0.168676  ...    0.118414   \n",
       "3    0.273127    0.293248    0.303532    0.299580  ...    0.152979   \n",
       "4    0.176344    0.183898    0.185946    0.181044  ...    0.118612   \n",
       "\n",
       "   2014-06-30  2014-09-30  2014-12-31  2015-03-31  2015-06-30  2015-09-30  \\\n",
       "0    0.214530    0.216564    0.216521    0.213811    0.219128    0.226646   \n",
       "1    0.148104    0.147641    0.142041    0.140656    0.145460    0.144927   \n",
       "2    0.116467    0.116019    0.114419    0.111791    0.112807    0.114031   \n",
       "3    0.153131    0.156237    0.157940    0.156826    0.163094    0.169798   \n",
       "4    0.117381    0.117480    0.113326    0.113214    0.117454    0.118066   \n",
       "\n",
       "   2015-12-31  2016-03-31  2016-06-30  \n",
       "0    0.231051    0.226693    0.230251  \n",
       "1    0.146747    0.142884    0.142414  \n",
       "2    0.114362    0.110954    0.110559  \n",
       "3    0.174702    0.171642    0.173135  \n",
       "4    0.120754    0.117895    0.117187  \n",
       "\n",
       "[5 rows x 73 columns]"
      ]
     },
     "execution_count": null,
     "metadata": {},
     "output_type": "execute_result"
    }
   ],
   "source": [
    "#get initial data\n",
    "df = pd.read_csv('../data/raw/TieredAffordability_Mortgage.csv')\n",
    "df.head()\n"
   ]
  },
  {
   "cell_type": "code",
   "execution_count": null,
   "metadata": {},
   "outputs": [
    {
     "data": {
      "text/html": [
       "<div>\n",
       "<style scoped>\n",
       "    .dataframe tbody tr th:only-of-type {\n",
       "        vertical-align: middle;\n",
       "    }\n",
       "\n",
       "    .dataframe tbody tr th {\n",
       "        vertical-align: top;\n",
       "    }\n",
       "\n",
       "    .dataframe thead th {\n",
       "        text-align: right;\n",
       "    }\n",
       "</style>\n",
       "<table border=\"1\" class=\"dataframe\">\n",
       "  <thead>\n",
       "    <tr style=\"text-align: right;\">\n",
       "      <th></th>\n",
       "      <th>RegionID</th>\n",
       "      <th>RegionName</th>\n",
       "      <th>PopRank</th>\n",
       "      <th>tier</th>\n",
       "      <th>1999-06-30</th>\n",
       "      <th>1999-09-30</th>\n",
       "      <th>1999-12-31</th>\n",
       "      <th>2000-03-31</th>\n",
       "      <th>2000-06-30</th>\n",
       "      <th>2000-09-30</th>\n",
       "      <th>...</th>\n",
       "      <th>2014-06-30</th>\n",
       "      <th>2014-09-30</th>\n",
       "      <th>2014-12-31</th>\n",
       "      <th>2015-03-31</th>\n",
       "      <th>2015-06-30</th>\n",
       "      <th>2015-09-30</th>\n",
       "      <th>2015-12-31</th>\n",
       "      <th>2016-03-31</th>\n",
       "      <th>2016-06-30</th>\n",
       "      <th>1999-2016_Avg</th>\n",
       "    </tr>\n",
       "  </thead>\n",
       "  <tbody>\n",
       "    <tr>\n",
       "      <th>0</th>\n",
       "      <td>102001</td>\n",
       "      <td>United States</td>\n",
       "      <td>0</td>\n",
       "      <td>Bottom Tier</td>\n",
       "      <td>0.300007</td>\n",
       "      <td>0.315030</td>\n",
       "      <td>0.316834</td>\n",
       "      <td>0.334600</td>\n",
       "      <td>0.343596</td>\n",
       "      <td>0.337009</td>\n",
       "      <td>...</td>\n",
       "      <td>0.214530</td>\n",
       "      <td>0.216564</td>\n",
       "      <td>0.216521</td>\n",
       "      <td>0.213811</td>\n",
       "      <td>0.219128</td>\n",
       "      <td>0.226646</td>\n",
       "      <td>0.231051</td>\n",
       "      <td>0.226693</td>\n",
       "      <td>0.230251</td>\n",
       "      <td>0.294283</td>\n",
       "    </tr>\n",
       "    <tr>\n",
       "      <th>1</th>\n",
       "      <td>102001</td>\n",
       "      <td>United States</td>\n",
       "      <td>0</td>\n",
       "      <td>Middle Tier</td>\n",
       "      <td>0.183958</td>\n",
       "      <td>0.191210</td>\n",
       "      <td>0.196901</td>\n",
       "      <td>0.206566</td>\n",
       "      <td>0.210426</td>\n",
       "      <td>0.204491</td>\n",
       "      <td>...</td>\n",
       "      <td>0.148104</td>\n",
       "      <td>0.147641</td>\n",
       "      <td>0.142041</td>\n",
       "      <td>0.140656</td>\n",
       "      <td>0.145460</td>\n",
       "      <td>0.144927</td>\n",
       "      <td>0.146747</td>\n",
       "      <td>0.142884</td>\n",
       "      <td>0.142414</td>\n",
       "      <td>0.182545</td>\n",
       "    </tr>\n",
       "    <tr>\n",
       "      <th>2</th>\n",
       "      <td>102001</td>\n",
       "      <td>United States</td>\n",
       "      <td>0</td>\n",
       "      <td>Upper Tier</td>\n",
       "      <td>0.147950</td>\n",
       "      <td>0.155872</td>\n",
       "      <td>0.157198</td>\n",
       "      <td>0.166470</td>\n",
       "      <td>0.171481</td>\n",
       "      <td>0.168676</td>\n",
       "      <td>...</td>\n",
       "      <td>0.116467</td>\n",
       "      <td>0.116019</td>\n",
       "      <td>0.114419</td>\n",
       "      <td>0.111791</td>\n",
       "      <td>0.112807</td>\n",
       "      <td>0.114031</td>\n",
       "      <td>0.114362</td>\n",
       "      <td>0.110954</td>\n",
       "      <td>0.110559</td>\n",
       "      <td>0.148892</td>\n",
       "    </tr>\n",
       "    <tr>\n",
       "      <th>3</th>\n",
       "      <td>394347</td>\n",
       "      <td>Atlanta, GA</td>\n",
       "      <td>9</td>\n",
       "      <td>Bottom Tier</td>\n",
       "      <td>0.252002</td>\n",
       "      <td>0.267823</td>\n",
       "      <td>0.273127</td>\n",
       "      <td>0.293248</td>\n",
       "      <td>0.303532</td>\n",
       "      <td>0.299580</td>\n",
       "      <td>...</td>\n",
       "      <td>0.153131</td>\n",
       "      <td>0.156237</td>\n",
       "      <td>0.157940</td>\n",
       "      <td>0.156826</td>\n",
       "      <td>0.163094</td>\n",
       "      <td>0.169798</td>\n",
       "      <td>0.174702</td>\n",
       "      <td>0.171642</td>\n",
       "      <td>0.173135</td>\n",
       "      <td>0.241499</td>\n",
       "    </tr>\n",
       "    <tr>\n",
       "      <th>4</th>\n",
       "      <td>394347</td>\n",
       "      <td>Atlanta, GA</td>\n",
       "      <td>9</td>\n",
       "      <td>Middle Tier</td>\n",
       "      <td>0.164372</td>\n",
       "      <td>0.171317</td>\n",
       "      <td>0.176344</td>\n",
       "      <td>0.183898</td>\n",
       "      <td>0.185946</td>\n",
       "      <td>0.181044</td>\n",
       "      <td>...</td>\n",
       "      <td>0.117381</td>\n",
       "      <td>0.117480</td>\n",
       "      <td>0.113326</td>\n",
       "      <td>0.113214</td>\n",
       "      <td>0.117454</td>\n",
       "      <td>0.118066</td>\n",
       "      <td>0.120754</td>\n",
       "      <td>0.117895</td>\n",
       "      <td>0.117187</td>\n",
       "      <td>0.147793</td>\n",
       "    </tr>\n",
       "    <tr>\n",
       "      <th>...</th>\n",
       "      <td>...</td>\n",
       "      <td>...</td>\n",
       "      <td>...</td>\n",
       "      <td>...</td>\n",
       "      <td>...</td>\n",
       "      <td>...</td>\n",
       "      <td>...</td>\n",
       "      <td>...</td>\n",
       "      <td>...</td>\n",
       "      <td>...</td>\n",
       "      <td>...</td>\n",
       "      <td>...</td>\n",
       "      <td>...</td>\n",
       "      <td>...</td>\n",
       "      <td>...</td>\n",
       "      <td>...</td>\n",
       "      <td>...</td>\n",
       "      <td>...</td>\n",
       "      <td>...</td>\n",
       "      <td>...</td>\n",
       "      <td>...</td>\n",
       "    </tr>\n",
       "    <tr>\n",
       "      <th>142</th>\n",
       "      <td>395209</td>\n",
       "      <td>Washington, DC</td>\n",
       "      <td>7</td>\n",
       "      <td>Middle Tier</td>\n",
       "      <td>0.172152</td>\n",
       "      <td>0.177780</td>\n",
       "      <td>0.182145</td>\n",
       "      <td>0.189783</td>\n",
       "      <td>0.193100</td>\n",
       "      <td>0.187900</td>\n",
       "      <td>...</td>\n",
       "      <td>0.182190</td>\n",
       "      <td>0.181112</td>\n",
       "      <td>0.174821</td>\n",
       "      <td>0.173381</td>\n",
       "      <td>0.178910</td>\n",
       "      <td>0.177032</td>\n",
       "      <td>0.178584</td>\n",
       "      <td>0.172367</td>\n",
       "      <td>0.169965</td>\n",
       "      <td>0.210889</td>\n",
       "    </tr>\n",
       "    <tr>\n",
       "      <th>143</th>\n",
       "      <td>395209</td>\n",
       "      <td>Washington, DC</td>\n",
       "      <td>7</td>\n",
       "      <td>Upper Tier</td>\n",
       "      <td>0.143937</td>\n",
       "      <td>0.152711</td>\n",
       "      <td>0.154567</td>\n",
       "      <td>0.165191</td>\n",
       "      <td>0.171749</td>\n",
       "      <td>0.171423</td>\n",
       "      <td>...</td>\n",
       "      <td>0.151683</td>\n",
       "      <td>0.149672</td>\n",
       "      <td>0.147656</td>\n",
       "      <td>0.144108</td>\n",
       "      <td>0.144019</td>\n",
       "      <td>0.144066</td>\n",
       "      <td>0.143958</td>\n",
       "      <td>0.139361</td>\n",
       "      <td>0.137443</td>\n",
       "      <td>0.175876</td>\n",
       "    </tr>\n",
       "    <tr>\n",
       "      <th>144</th>\n",
       "      <td>753899</td>\n",
       "      <td>Los Angeles-Long Beach-Anaheim, CA</td>\n",
       "      <td>2</td>\n",
       "      <td>Bottom Tier</td>\n",
       "      <td>0.558370</td>\n",
       "      <td>0.583666</td>\n",
       "      <td>0.591128</td>\n",
       "      <td>0.632834</td>\n",
       "      <td>0.655198</td>\n",
       "      <td>0.645562</td>\n",
       "      <td>...</td>\n",
       "      <td>0.743749</td>\n",
       "      <td>0.754011</td>\n",
       "      <td>0.750753</td>\n",
       "      <td>0.743036</td>\n",
       "      <td>0.758846</td>\n",
       "      <td>0.775822</td>\n",
       "      <td>0.792530</td>\n",
       "      <td>0.782563</td>\n",
       "      <td>0.789578</td>\n",
       "      <td>0.809504</td>\n",
       "    </tr>\n",
       "    <tr>\n",
       "      <th>145</th>\n",
       "      <td>753899</td>\n",
       "      <td>Los Angeles-Long Beach-Anaheim, CA</td>\n",
       "      <td>2</td>\n",
       "      <td>Middle Tier</td>\n",
       "      <td>0.305483</td>\n",
       "      <td>0.317189</td>\n",
       "      <td>0.328168</td>\n",
       "      <td>0.346593</td>\n",
       "      <td>0.354193</td>\n",
       "      <td>0.345239</td>\n",
       "      <td>...</td>\n",
       "      <td>0.393393</td>\n",
       "      <td>0.395619</td>\n",
       "      <td>0.383162</td>\n",
       "      <td>0.382531</td>\n",
       "      <td>0.396277</td>\n",
       "      <td>0.395686</td>\n",
       "      <td>0.402116</td>\n",
       "      <td>0.393042</td>\n",
       "      <td>0.390708</td>\n",
       "      <td>0.425333</td>\n",
       "    </tr>\n",
       "    <tr>\n",
       "      <th>146</th>\n",
       "      <td>753899</td>\n",
       "      <td>Los Angeles-Long Beach-Anaheim, CA</td>\n",
       "      <td>2</td>\n",
       "      <td>Upper Tier</td>\n",
       "      <td>0.241951</td>\n",
       "      <td>0.254095</td>\n",
       "      <td>0.258083</td>\n",
       "      <td>0.275270</td>\n",
       "      <td>0.283944</td>\n",
       "      <td>0.279486</td>\n",
       "      <td>...</td>\n",
       "      <td>0.272818</td>\n",
       "      <td>0.272508</td>\n",
       "      <td>0.269339</td>\n",
       "      <td>0.265556</td>\n",
       "      <td>0.267663</td>\n",
       "      <td>0.270638</td>\n",
       "      <td>0.273623</td>\n",
       "      <td>0.267751</td>\n",
       "      <td>0.266515</td>\n",
       "      <td>0.307019</td>\n",
       "    </tr>\n",
       "  </tbody>\n",
       "</table>\n",
       "<p>147 rows × 74 columns</p>\n",
       "</div>"
      ],
      "text/plain": [
       "     RegionID                          RegionName  PopRank         tier  \\\n",
       "0      102001                       United States        0  Bottom Tier   \n",
       "1      102001                       United States        0  Middle Tier   \n",
       "2      102001                       United States        0   Upper Tier   \n",
       "3      394347                         Atlanta, GA        9  Bottom Tier   \n",
       "4      394347                         Atlanta, GA        9  Middle Tier   \n",
       "..        ...                                 ...      ...          ...   \n",
       "142    395209                      Washington, DC        7  Middle Tier   \n",
       "143    395209                      Washington, DC        7   Upper Tier   \n",
       "144    753899  Los Angeles-Long Beach-Anaheim, CA        2  Bottom Tier   \n",
       "145    753899  Los Angeles-Long Beach-Anaheim, CA        2  Middle Tier   \n",
       "146    753899  Los Angeles-Long Beach-Anaheim, CA        2   Upper Tier   \n",
       "\n",
       "     1999-06-30  1999-09-30  1999-12-31  2000-03-31  2000-06-30  2000-09-30  \\\n",
       "0      0.300007    0.315030    0.316834    0.334600    0.343596    0.337009   \n",
       "1      0.183958    0.191210    0.196901    0.206566    0.210426    0.204491   \n",
       "2      0.147950    0.155872    0.157198    0.166470    0.171481    0.168676   \n",
       "3      0.252002    0.267823    0.273127    0.293248    0.303532    0.299580   \n",
       "4      0.164372    0.171317    0.176344    0.183898    0.185946    0.181044   \n",
       "..          ...         ...         ...         ...         ...         ...   \n",
       "142    0.172152    0.177780    0.182145    0.189783    0.193100    0.187900   \n",
       "143    0.143937    0.152711    0.154567    0.165191    0.171749    0.171423   \n",
       "144    0.558370    0.583666    0.591128    0.632834    0.655198    0.645562   \n",
       "145    0.305483    0.317189    0.328168    0.346593    0.354193    0.345239   \n",
       "146    0.241951    0.254095    0.258083    0.275270    0.283944    0.279486   \n",
       "\n",
       "     ...  2014-06-30  2014-09-30  2014-12-31  2015-03-31  2015-06-30  \\\n",
       "0    ...    0.214530    0.216564    0.216521    0.213811    0.219128   \n",
       "1    ...    0.148104    0.147641    0.142041    0.140656    0.145460   \n",
       "2    ...    0.116467    0.116019    0.114419    0.111791    0.112807   \n",
       "3    ...    0.153131    0.156237    0.157940    0.156826    0.163094   \n",
       "4    ...    0.117381    0.117480    0.113326    0.113214    0.117454   \n",
       "..   ...         ...         ...         ...         ...         ...   \n",
       "142  ...    0.182190    0.181112    0.174821    0.173381    0.178910   \n",
       "143  ...    0.151683    0.149672    0.147656    0.144108    0.144019   \n",
       "144  ...    0.743749    0.754011    0.750753    0.743036    0.758846   \n",
       "145  ...    0.393393    0.395619    0.383162    0.382531    0.396277   \n",
       "146  ...    0.272818    0.272508    0.269339    0.265556    0.267663   \n",
       "\n",
       "     2015-09-30  2015-12-31  2016-03-31  2016-06-30  1999-2016_Avg  \n",
       "0      0.226646    0.231051    0.226693    0.230251       0.294283  \n",
       "1      0.144927    0.146747    0.142884    0.142414       0.182545  \n",
       "2      0.114031    0.114362    0.110954    0.110559       0.148892  \n",
       "3      0.169798    0.174702    0.171642    0.173135       0.241499  \n",
       "4      0.118066    0.120754    0.117895    0.117187       0.147793  \n",
       "..          ...         ...         ...         ...            ...  \n",
       "142    0.177032    0.178584    0.172367    0.169965       0.210889  \n",
       "143    0.144066    0.143958    0.139361    0.137443       0.175876  \n",
       "144    0.775822    0.792530    0.782563    0.789578       0.809504  \n",
       "145    0.395686    0.402116    0.393042    0.390708       0.425333  \n",
       "146    0.270638    0.273623    0.267751    0.266515       0.307019  \n",
       "\n",
       "[147 rows x 74 columns]"
      ]
     },
     "execution_count": null,
     "metadata": {},
     "output_type": "execute_result"
    }
   ],
   "source": [
    "#average data accross all times\n",
    "df_avg = df\n",
    "df_avg['1999-2016_Avg'] = df_avg.iloc[:,4:].mean(axis=1)\n",
    "df_avg"
   ]
  },
  {
   "cell_type": "code",
   "execution_count": null,
   "metadata": {},
   "outputs": [
    {
     "name": "stderr",
     "output_type": "stream",
     "text": [
      "/var/folders/fx/j8d2l3cx5f3brgjq1fddy68c0000gn/T/ipykernel_1655/3583233566.py:2: FutureWarning: The default value of numeric_only in DataFrameGroupBy.mean is deprecated. In a future version, numeric_only will default to False. Either specify numeric_only or select only columns which should be valid for the function.\n",
      "  untiered = df_avg.groupby('RegionName').mean().reset_index()\n"
     ]
    },
    {
     "data": {
      "text/html": [
       "<div>\n",
       "<style scoped>\n",
       "    .dataframe tbody tr th:only-of-type {\n",
       "        vertical-align: middle;\n",
       "    }\n",
       "\n",
       "    .dataframe tbody tr th {\n",
       "        vertical-align: top;\n",
       "    }\n",
       "\n",
       "    .dataframe thead th {\n",
       "        text-align: right;\n",
       "    }\n",
       "</style>\n",
       "<table border=\"1\" class=\"dataframe\">\n",
       "  <thead>\n",
       "    <tr style=\"text-align: right;\">\n",
       "      <th></th>\n",
       "      <th>RegionName</th>\n",
       "      <th>RegionID</th>\n",
       "      <th>PopRank</th>\n",
       "      <th>1999-06-30</th>\n",
       "      <th>1999-09-30</th>\n",
       "      <th>1999-12-31</th>\n",
       "      <th>2000-03-31</th>\n",
       "      <th>2000-06-30</th>\n",
       "      <th>2000-09-30</th>\n",
       "      <th>2000-12-31</th>\n",
       "      <th>...</th>\n",
       "      <th>2014-06-30</th>\n",
       "      <th>2014-09-30</th>\n",
       "      <th>2014-12-31</th>\n",
       "      <th>2015-03-31</th>\n",
       "      <th>2015-06-30</th>\n",
       "      <th>2015-09-30</th>\n",
       "      <th>2015-12-31</th>\n",
       "      <th>2016-03-31</th>\n",
       "      <th>2016-06-30</th>\n",
       "      <th>1999-2016_Avg</th>\n",
       "    </tr>\n",
       "  </thead>\n",
       "  <tbody>\n",
       "    <tr>\n",
       "      <th>0</th>\n",
       "      <td>Atlanta, GA</td>\n",
       "      <td>394347.0</td>\n",
       "      <td>9.0</td>\n",
       "      <td>0.185056</td>\n",
       "      <td>0.195660</td>\n",
       "      <td>0.199830</td>\n",
       "      <td>0.212217</td>\n",
       "      <td>0.218108</td>\n",
       "      <td>0.214322</td>\n",
       "      <td>0.210096</td>\n",
       "      <td>...</td>\n",
       "      <td>0.125443</td>\n",
       "      <td>0.126456</td>\n",
       "      <td>0.125456</td>\n",
       "      <td>0.124794</td>\n",
       "      <td>0.128929</td>\n",
       "      <td>0.132007</td>\n",
       "      <td>0.134857</td>\n",
       "      <td>0.132049</td>\n",
       "      <td>0.132342</td>\n",
       "      <td>0.173411</td>\n",
       "    </tr>\n",
       "    <tr>\n",
       "      <th>1</th>\n",
       "      <td>Austin, TX</td>\n",
       "      <td>394355.0</td>\n",
       "      <td>34.0</td>\n",
       "      <td>NaN</td>\n",
       "      <td>NaN</td>\n",
       "      <td>NaN</td>\n",
       "      <td>NaN</td>\n",
       "      <td>NaN</td>\n",
       "      <td>NaN</td>\n",
       "      <td>NaN</td>\n",
       "      <td>...</td>\n",
       "      <td>0.178504</td>\n",
       "      <td>0.179118</td>\n",
       "      <td>0.178279</td>\n",
       "      <td>0.178151</td>\n",
       "      <td>0.183256</td>\n",
       "      <td>0.187123</td>\n",
       "      <td>0.190642</td>\n",
       "      <td>0.188920</td>\n",
       "      <td>0.191257</td>\n",
       "      <td>0.178884</td>\n",
       "    </tr>\n",
       "    <tr>\n",
       "      <th>2</th>\n",
       "      <td>Baltimore, MD</td>\n",
       "      <td>394358.0</td>\n",
       "      <td>20.0</td>\n",
       "      <td>0.182390</td>\n",
       "      <td>0.188656</td>\n",
       "      <td>0.190618</td>\n",
       "      <td>0.200798</td>\n",
       "      <td>0.203623</td>\n",
       "      <td>0.197813</td>\n",
       "      <td>0.191459</td>\n",
       "      <td>...</td>\n",
       "      <td>0.174284</td>\n",
       "      <td>0.173672</td>\n",
       "      <td>0.170059</td>\n",
       "      <td>0.166648</td>\n",
       "      <td>0.169546</td>\n",
       "      <td>0.170530</td>\n",
       "      <td>0.171274</td>\n",
       "      <td>0.165308</td>\n",
       "      <td>0.164232</td>\n",
       "      <td>0.211005</td>\n",
       "    </tr>\n",
       "    <tr>\n",
       "      <th>3</th>\n",
       "      <td>Birmingham, AL</td>\n",
       "      <td>394388.0</td>\n",
       "      <td>48.0</td>\n",
       "      <td>0.182024</td>\n",
       "      <td>0.189182</td>\n",
       "      <td>0.191835</td>\n",
       "      <td>0.200738</td>\n",
       "      <td>0.203446</td>\n",
       "      <td>0.197980</td>\n",
       "      <td>0.192729</td>\n",
       "      <td>...</td>\n",
       "      <td>0.123971</td>\n",
       "      <td>0.121464</td>\n",
       "      <td>0.119362</td>\n",
       "      <td>0.117756</td>\n",
       "      <td>0.121168</td>\n",
       "      <td>0.121732</td>\n",
       "      <td>0.122439</td>\n",
       "      <td>0.118245</td>\n",
       "      <td>0.117373</td>\n",
       "      <td>0.159181</td>\n",
       "    </tr>\n",
       "    <tr>\n",
       "      <th>4</th>\n",
       "      <td>Boston, MA</td>\n",
       "      <td>394404.0</td>\n",
       "      <td>10.0</td>\n",
       "      <td>0.284985</td>\n",
       "      <td>0.304934</td>\n",
       "      <td>0.315119</td>\n",
       "      <td>0.338125</td>\n",
       "      <td>0.354909</td>\n",
       "      <td>0.356975</td>\n",
       "      <td>0.356404</td>\n",
       "      <td>...</td>\n",
       "      <td>0.268809</td>\n",
       "      <td>0.270239</td>\n",
       "      <td>0.265991</td>\n",
       "      <td>0.263079</td>\n",
       "      <td>0.266803</td>\n",
       "      <td>0.271550</td>\n",
       "      <td>0.276395</td>\n",
       "      <td>0.269518</td>\n",
       "      <td>0.268941</td>\n",
       "      <td>0.339361</td>\n",
       "    </tr>\n",
       "  </tbody>\n",
       "</table>\n",
       "<p>5 rows × 73 columns</p>\n",
       "</div>"
      ],
      "text/plain": [
       "       RegionName  RegionID  PopRank  1999-06-30  1999-09-30  1999-12-31  \\\n",
       "0     Atlanta, GA  394347.0      9.0    0.185056    0.195660    0.199830   \n",
       "1      Austin, TX  394355.0     34.0         NaN         NaN         NaN   \n",
       "2   Baltimore, MD  394358.0     20.0    0.182390    0.188656    0.190618   \n",
       "3  Birmingham, AL  394388.0     48.0    0.182024    0.189182    0.191835   \n",
       "4      Boston, MA  394404.0     10.0    0.284985    0.304934    0.315119   \n",
       "\n",
       "   2000-03-31  2000-06-30  2000-09-30  2000-12-31  ...  2014-06-30  \\\n",
       "0    0.212217    0.218108    0.214322    0.210096  ...    0.125443   \n",
       "1         NaN         NaN         NaN         NaN  ...    0.178504   \n",
       "2    0.200798    0.203623    0.197813    0.191459  ...    0.174284   \n",
       "3    0.200738    0.203446    0.197980    0.192729  ...    0.123971   \n",
       "4    0.338125    0.354909    0.356975    0.356404  ...    0.268809   \n",
       "\n",
       "   2014-09-30  2014-12-31  2015-03-31  2015-06-30  2015-09-30  2015-12-31  \\\n",
       "0    0.126456    0.125456    0.124794    0.128929    0.132007    0.134857   \n",
       "1    0.179118    0.178279    0.178151    0.183256    0.187123    0.190642   \n",
       "2    0.173672    0.170059    0.166648    0.169546    0.170530    0.171274   \n",
       "3    0.121464    0.119362    0.117756    0.121168    0.121732    0.122439   \n",
       "4    0.270239    0.265991    0.263079    0.266803    0.271550    0.276395   \n",
       "\n",
       "   2016-03-31  2016-06-30  1999-2016_Avg  \n",
       "0    0.132049    0.132342       0.173411  \n",
       "1    0.188920    0.191257       0.178884  \n",
       "2    0.165308    0.164232       0.211005  \n",
       "3    0.118245    0.117373       0.159181  \n",
       "4    0.269518    0.268941       0.339361  \n",
       "\n",
       "[5 rows x 73 columns]"
      ]
     },
     "execution_count": null,
     "metadata": {},
     "output_type": "execute_result"
    }
   ],
   "source": [
    "#avg all tiers together\n",
    "untiered = df_avg.groupby('RegionName').mean().reset_index()\n",
    "untiered.head()"
   ]
  },
  {
   "cell_type": "code",
   "execution_count": null,
   "metadata": {},
   "outputs": [],
   "source": [
    "#save data\n",
    "untiered.to_csv('../data/processed/untieredMortgageAffortability')"
   ]
  },
  {
   "cell_type": "code",
   "execution_count": null,
   "metadata": {},
   "outputs": [],
   "source": [
    "#style\n",
    "colors = [\"#FF0B04\"]\n",
    "sns.set_palette(sns.color_palette(colors))"
   ]
  },
  {
   "cell_type": "code",
   "execution_count": null,
   "metadata": {},
   "outputs": [
    {
     "data": {
      "text/plain": [
       "[Text(0.5, 1.0, 'Population vs. Mortgage Affordability'),\n",
       " Text(0.5, 0, 'Affordability(Average Mortgage to Income Ratio)'),\n",
       " Text(0, 0.5, 'Population (decreasing top to bottom)')]"
      ]
     },
     "execution_count": null,
     "metadata": {},
     "output_type": "execute_result"
    },
    {
     "data": {
      "image/png": "[encoded data removed]",
      "text/plain": [
       "<Figure size 640x480 with 1 Axes>"
      ]
     },
     "metadata": {},
     "output_type": "display_data"
    }
   ],
   "source": [
    "#lets visualize the relationship of population rank and affordability\n",
    "untiered = untiered.sort_values('PopRank')\n",
    "bar = sns.barplot(untiered, x='1999-2016_Avg', y='PopRank', orient='h' )\n",
    "bar.set(title='Population vs. Mortgage Affordability', xlabel= 'Affordability(Average Mortgage to Income Ratio)', ylabel='Population (decreasing top to bottom)')"
   ]
  },
  {
   "cell_type": "code",
   "execution_count": null,
   "metadata": {},
   "outputs": [
    {
     "data": {
      "text/plain": [
       "[Text(0.5, 1.0, 'Population vs. Mortgage Affordability'),\n",
       " Text(0.5, 0, 'Affordability(Average Mortgage to Income Ratio)'),\n",
       " Text(0, 0.5, 'Population')]"
      ]
     },
     "execution_count": null,
     "metadata": {},
     "output_type": "execute_result"
    },
    {
     "data": {
      "image/png": "[encoded data removed]",
      "text/plain": [
       "<Figure size 640x480 with 1 Axes>"
      ]
     },
     "metadata": {},
     "output_type": "display_data"
    }
   ],
   "source": [
    "scat = sns.scatterplot(untiered, x='1999-2016_Avg', y='PopRank')\n",
    "scat.set(title='Population vs. Mortgage Affordability', xlabel= 'Affordability(Average Mortgage to Income Ratio)', ylabel='Population')"
   ]
  },
  {
   "cell_type": "code",
   "execution_count": null,
   "metadata": {},
   "outputs": [
    {
     "data": {
      "text/plain": [
       "[Text(0.5, 1.0, 'Population vs. Mortgage Affordability'),\n",
       " Text(0.5, 0, 'Affordability(Average Mortgage to Income Ratio)'),\n",
       " Text(0, 0.5, 'Population')]"
      ]
     },
     "execution_count": null,
     "metadata": {},
     "output_type": "execute_result"
    },
    {
     "data": {
      "image/png": "[encoded data removed]",
      "text/plain": [
       "<Figure size 640x480 with 1 Axes>"
      ]
     },
     "metadata": {},
     "output_type": "display_data"
    }
   ],
   "source": [
    "scat = sns.scatterplot(df_avg, x='1999-2016_Avg', y='PopRank', hue='tier')\n",
    "scat.set(title='Population vs. Mortgage Affordability', xlabel= 'Affordability(Average Mortgage to Income Ratio)', ylabel='Population')"
   ]
  },
  {
   "cell_type": "code",
   "execution_count": null,
   "metadata": {},
   "outputs": [
    {
     "name": "stderr",
     "output_type": "stream",
     "text": [
      "/var/folders/fx/j8d2l3cx5f3brgjq1fddy68c0000gn/T/ipykernel_1655/1640212637.py:7: FutureWarning: The default value of numeric_only in DataFrameGroupBy.mean is deprecated. In a future version, numeric_only will default to False. Either specify numeric_only or select only columns which should be valid for the function.\n",
      "  df = df.groupby('RegionName').mean().reset_index()\n"
     ]
    },
    {
     "data": {
      "text/html": [
       "<div>\n",
       "<style scoped>\n",
       "    .dataframe tbody tr th:only-of-type {\n",
       "        vertical-align: middle;\n",
       "    }\n",
       "\n",
       "    .dataframe tbody tr th {\n",
       "        vertical-align: top;\n",
       "    }\n",
       "\n",
       "    .dataframe thead th {\n",
       "        text-align: right;\n",
       "    }\n",
       "</style>\n",
       "<table border=\"1\" class=\"dataframe\">\n",
       "  <thead>\n",
       "    <tr style=\"text-align: right;\">\n",
       "      <th></th>\n",
       "      <th>RegionName</th>\n",
       "      <th>PopRank</th>\n",
       "      <th>1999-06-30</th>\n",
       "      <th>1999-09-30</th>\n",
       "      <th>1999-12-31</th>\n",
       "      <th>2000-03-31</th>\n",
       "      <th>2000-06-30</th>\n",
       "      <th>2000-09-30</th>\n",
       "      <th>2000-12-31</th>\n",
       "      <th>2001-03-31</th>\n",
       "      <th>...</th>\n",
       "      <th>2014-06-30</th>\n",
       "      <th>2014-09-30</th>\n",
       "      <th>2014-12-31</th>\n",
       "      <th>2015-03-31</th>\n",
       "      <th>2015-06-30</th>\n",
       "      <th>2015-09-30</th>\n",
       "      <th>2015-12-31</th>\n",
       "      <th>2016-03-31</th>\n",
       "      <th>2016-06-30</th>\n",
       "      <th>1999-2016_Avg</th>\n",
       "    </tr>\n",
       "  </thead>\n",
       "  <tbody>\n",
       "    <tr>\n",
       "      <th>0</th>\n",
       "      <td>AL</td>\n",
       "      <td>48.000000</td>\n",
       "      <td>0.182024</td>\n",
       "      <td>0.189182</td>\n",
       "      <td>0.191835</td>\n",
       "      <td>0.200738</td>\n",
       "      <td>0.203446</td>\n",
       "      <td>0.197980</td>\n",
       "      <td>0.192729</td>\n",
       "      <td>0.183731</td>\n",
       "      <td>...</td>\n",
       "      <td>0.123971</td>\n",
       "      <td>0.121464</td>\n",
       "      <td>0.119362</td>\n",
       "      <td>0.117756</td>\n",
       "      <td>0.121168</td>\n",
       "      <td>0.121732</td>\n",
       "      <td>0.122439</td>\n",
       "      <td>0.118245</td>\n",
       "      <td>0.117373</td>\n",
       "      <td>0.159181</td>\n",
       "    </tr>\n",
       "    <tr>\n",
       "      <th>1</th>\n",
       "      <td>AZ</td>\n",
       "      <td>14.000000</td>\n",
       "      <td>0.209538</td>\n",
       "      <td>0.219658</td>\n",
       "      <td>0.223058</td>\n",
       "      <td>0.235753</td>\n",
       "      <td>0.240561</td>\n",
       "      <td>0.235259</td>\n",
       "      <td>0.229028</td>\n",
       "      <td>0.220244</td>\n",
       "      <td>...</td>\n",
       "      <td>0.194776</td>\n",
       "      <td>0.194267</td>\n",
       "      <td>0.192925</td>\n",
       "      <td>0.190248</td>\n",
       "      <td>0.194644</td>\n",
       "      <td>0.198692</td>\n",
       "      <td>0.203908</td>\n",
       "      <td>0.199759</td>\n",
       "      <td>0.201123</td>\n",
       "      <td>0.228479</td>\n",
       "    </tr>\n",
       "    <tr>\n",
       "      <th>2</th>\n",
       "      <td>CA</td>\n",
       "      <td>16.833333</td>\n",
       "      <td>0.320071</td>\n",
       "      <td>0.340503</td>\n",
       "      <td>0.352845</td>\n",
       "      <td>0.383232</td>\n",
       "      <td>0.405230</td>\n",
       "      <td>0.406386</td>\n",
       "      <td>0.405748</td>\n",
       "      <td>0.396985</td>\n",
       "      <td>...</td>\n",
       "      <td>0.379697</td>\n",
       "      <td>0.383954</td>\n",
       "      <td>0.381761</td>\n",
       "      <td>0.379931</td>\n",
       "      <td>0.391845</td>\n",
       "      <td>0.400304</td>\n",
       "      <td>0.407850</td>\n",
       "      <td>0.400691</td>\n",
       "      <td>0.400945</td>\n",
       "      <td>0.432776</td>\n",
       "    </tr>\n",
       "    <tr>\n",
       "      <th>3</th>\n",
       "      <td>CO</td>\n",
       "      <td>21.000000</td>\n",
       "      <td>0.244328</td>\n",
       "      <td>0.262088</td>\n",
       "      <td>0.271087</td>\n",
       "      <td>0.290548</td>\n",
       "      <td>0.303199</td>\n",
       "      <td>0.303906</td>\n",
       "      <td>0.302152</td>\n",
       "      <td>0.295338</td>\n",
       "      <td>...</td>\n",
       "      <td>0.203149</td>\n",
       "      <td>0.207240</td>\n",
       "      <td>0.209600</td>\n",
       "      <td>0.211978</td>\n",
       "      <td>0.221844</td>\n",
       "      <td>0.229498</td>\n",
       "      <td>0.237461</td>\n",
       "      <td>0.235270</td>\n",
       "      <td>0.238779</td>\n",
       "      <td>0.252021</td>\n",
       "    </tr>\n",
       "    <tr>\n",
       "      <th>4</th>\n",
       "      <td>CT</td>\n",
       "      <td>43.000000</td>\n",
       "      <td>0.199718</td>\n",
       "      <td>0.209753</td>\n",
       "      <td>0.213405</td>\n",
       "      <td>0.227203</td>\n",
       "      <td>0.233481</td>\n",
       "      <td>0.231111</td>\n",
       "      <td>0.226847</td>\n",
       "      <td>0.218680</td>\n",
       "      <td>...</td>\n",
       "      <td>0.178227</td>\n",
       "      <td>0.177021</td>\n",
       "      <td>0.169949</td>\n",
       "      <td>0.165268</td>\n",
       "      <td>0.167462</td>\n",
       "      <td>0.167148</td>\n",
       "      <td>0.166232</td>\n",
       "      <td>0.161150</td>\n",
       "      <td>0.159600</td>\n",
       "      <td>0.226595</td>\n",
       "    </tr>\n",
       "  </tbody>\n",
       "</table>\n",
       "<p>5 rows × 72 columns</p>\n",
       "</div>"
      ],
      "text/plain": [
       "  RegionName    PopRank  1999-06-30  1999-09-30  1999-12-31  2000-03-31  \\\n",
       "0         AL  48.000000    0.182024    0.189182    0.191835    0.200738   \n",
       "1         AZ  14.000000    0.209538    0.219658    0.223058    0.235753   \n",
       "2         CA  16.833333    0.320071    0.340503    0.352845    0.383232   \n",
       "3         CO  21.000000    0.244328    0.262088    0.271087    0.290548   \n",
       "4         CT  43.000000    0.199718    0.209753    0.213405    0.227203   \n",
       "\n",
       "   2000-06-30  2000-09-30  2000-12-31  2001-03-31  ...  2014-06-30  \\\n",
       "0    0.203446    0.197980    0.192729    0.183731  ...    0.123971   \n",
       "1    0.240561    0.235259    0.229028    0.220244  ...    0.194776   \n",
       "2    0.405230    0.406386    0.405748    0.396985  ...    0.379697   \n",
       "3    0.303199    0.303906    0.302152    0.295338  ...    0.203149   \n",
       "4    0.233481    0.231111    0.226847    0.218680  ...    0.178227   \n",
       "\n",
       "   2014-09-30  2014-12-31  2015-03-31  2015-06-30  2015-09-30  2015-12-31  \\\n",
       "0    0.121464    0.119362    0.117756    0.121168    0.121732    0.122439   \n",
       "1    0.194267    0.192925    0.190248    0.194644    0.198692    0.203908   \n",
       "2    0.383954    0.381761    0.379931    0.391845    0.400304    0.407850   \n",
       "3    0.207240    0.209600    0.211978    0.221844    0.229498    0.237461   \n",
       "4    0.177021    0.169949    0.165268    0.167462    0.167148    0.166232   \n",
       "\n",
       "   2016-03-31  2016-06-30  1999-2016_Avg  \n",
       "0    0.118245    0.117373       0.159181  \n",
       "1    0.199759    0.201123       0.228479  \n",
       "2    0.400691    0.400945       0.432776  \n",
       "3    0.235270    0.238779       0.252021  \n",
       "4    0.161150    0.159600       0.226595  \n",
       "\n",
       "[5 rows x 72 columns]"
      ]
     },
     "execution_count": null,
     "metadata": {},
     "output_type": "execute_result"
    }
   ],
   "source": [
    "df = df_avg\n",
    "#replace regions with state codes\n",
    "state_codes = ['DC', 'AL', 'AZ', 'AR', 'CA', 'CO', 'CT', 'DE', 'FL', 'GA', 'ID', 'IL', 'IN', 'IA', 'KS', 'KY', 'LA', 'ME', 'MD', 'MA', 'MI', 'MN', 'MS', 'MO', 'MT', 'NE', 'NV', 'NH', 'NJ', 'NM', 'NY', 'NC', 'ND', 'OH', 'OK', 'OR', 'PA', 'RI', 'SC', 'SD', 'TN', 'TX', 'UT', 'VT', 'VA', 'WA', 'WV', 'WI', 'WY']\n",
    "for i in state_codes:\n",
    "    df.loc[df['RegionName'].str.contains(i), 'RegionName'] = i\n",
    "#group states \n",
    "df = df.groupby('RegionName').mean().reset_index()\n",
    "df = df.drop(columns='RegionID')\n",
    "df.head()"
   ]
  },
  {
   "cell_type": "code",
   "execution_count": null,
   "metadata": {},
   "outputs": [],
   "source": [
    "#Save Data\n",
    "df.to_csv('../data/processed/MortgageAffordabilitybyState')"
   ]
  },
  {
   "cell_type": "code",
   "execution_count": null,
   "metadata": {},
   "outputs": [
    {
     "data": {
      "application/vnd.plotly.v1+json": {
       "config": {
        "plotlyServerURL": "https://plot.ly"
       },
       "data": [
        {
         "coloraxis": "coloraxis",
         "geo": "geo",
         "hovertemplate": "RegionName=%{location}<br>1999-2016_Avg=%{z}<extra></extra>",
         "locationmode": "USA-states",
         "locations": [
          "AL",
          "AZ",
          "CA",
          "CO",
          "CT",
          "DC",
          "FL",
          "GA",
          "IL",
          "KY",
          "LA",
          "MA",
          "MD",
          "MI",
          "MN",
          "MO",
          "NC",
          "NV",
          "NY",
          "OH",
          "OK",
          "OR",
          "PA",
          "RI",
          "TN",
          "TX",
          "UT",
          "United States",
          "VA",
          "WA",
          "WI"
         ],
         "name": "",
         "type": "choropleth",
         "z": [
          0.15918105658063075,
          0.22847880007348778,
          0.4327756453982068,
          0.25202104427638383,
          0.22659531580804967,
          0.23642975969168412,
          0.20931686319791729,
          0.1734111984205073,
          0.22743978520127675,
          0.16786241011755942,
          0.21591294563754798,
          0.33936144406118296,
          0.2110045038548243,
          0.1512626064373895,
          0.2119331884956923,
          0.1604892202425772,
          0.18544041322665963,
          0.2306860195839108,
          0.25678638444370305,
          0.17209729917714048,
          0.13830337740167972,
          0.2815874946832814,
          0.16672858547702984,
          0.3201433312112156,
          0.16449261034152046,
          0.1488137712296966,
          0.23292648646241657,
          0.20857334119397883,
          0.20694866540781087,
          0.3037289506500305,
          0.21582295162251278
         ]
        }
       ],
       "layout": {
        "coloraxis": {
         "colorbar": {
          "title": {
           "text": "1999-2016_Avg"
          }
         },
         "colorscale": [
          [
           0,
           "#fde725"
          ],
          [
           0.1111111111111111,
           "#b5de2b"
          ],
          [
           0.2222222222222222,
           "#6ece58"
          ],
          [
           0.3333333333333333,
           "#35b779"
          ],
          [
           0.4444444444444444,
           "#1f9e89"
          ],
          [
           0.5555555555555556,
           "#26828e"
          ],
          [
           0.6666666666666666,
           "#31688e"
          ],
          [
           0.7777777777777778,
           "#3e4989"
          ],
          [
           0.8888888888888888,
           "#482878"
          ],
          [
           1,
           "#440154"
          ]
         ]
        },
        "geo": {
         "center": {},
         "domain": {
          "x": [
           0,
           1
          ],
          "y": [
           0,
           1
          ]
         },
         "scope": "usa"
        },
        "legend": {
         "tracegroupgap": 0
        },
        "margin": {
         "t": 60
        },
        "template": {
         "data": {
          "bar": [
           {
            "error_x": {
             "color": "#2a3f5f"
            },
            "error_y": {
             "color": "#2a3f5f"
            },
            "marker": {
             "line": {
              "color": "#E5ECF6",
              "width": 0.5
             },
             "pattern": {
              "fillmode": "overlay",
              "size": 10,
              "solidity": 0.2
             }
            },
            "type": "bar"
           }
          ],
          "barpolar": [
           {
            "marker": {
             "line": {
              "color": "#E5ECF6",
              "width": 0.5
             },
             "pattern": {
              "fillmode": "overlay",
              "size": 10,
              "solidity": 0.2
             }
            },
            "type": "barpolar"
           }
          ],
          "carpet": [
           {
            "aaxis": {
             "endlinecolor": "#2a3f5f",
             "gridcolor": "white",
             "linecolor": "white",
             "minorgridcolor": "white",
             "startlinecolor": "#2a3f5f"
            },
            "baxis": {
             "endlinecolor": "#2a3f5f",
             "gridcolor": "white",
             "linecolor": "white",
             "minorgridcolor": "white",
             "startlinecolor": "#2a3f5f"
            },
            "type": "carpet"
           }
          ],
          "choropleth": [
           {
            "colorbar": {
             "outlinewidth": 0,
             "ticks": ""
            },
            "type": "choropleth"
           }
          ],
          "contour": [
           {
            "colorbar": {
             "outlinewidth": 0,
             "ticks": ""
            },
            "colorscale": [
             [
              0,
              "#0d0887"
             ],
             [
              0.1111111111111111,
              "#46039f"
             ],
             [
              0.2222222222222222,
              "#7201a8"
             ],
             [
              0.3333333333333333,
              "#9c179e"
             ],
             [
              0.4444444444444444,
              "#bd3786"
             ],
             [
              0.5555555555555556,
              "#d8576b"
             ],
             [
              0.6666666666666666,
              "#ed7953"
             ],
             [
              0.7777777777777778,
              "#fb9f3a"
             ],
             [
              0.8888888888888888,
              "#fdca26"
             ],
             [
              1,
              "#f0f921"
             ]
            ],
            "type": "contour"
           }
          ],
          "contourcarpet": [
           {
            "colorbar": {
             "outlinewidth": 0,
             "ticks": ""
            },
            "type": "contourcarpet"
           }
          ],
          "heatmap": [
           {
            "colorbar": {
             "outlinewidth": 0,
             "ticks": ""
            },
            "colorscale": [
             [
              0,
              "#0d0887"
             ],
             [
              0.1111111111111111,
              "#46039f"
             ],
             [
              0.2222222222222222,
              "#7201a8"
             ],
             [
              0.3333333333333333,
              "#9c179e"
             ],
             [
              0.4444444444444444,
              "#bd3786"
             ],
             [
              0.5555555555555556,
              "#d8576b"
             ],
             [
              0.6666666666666666,
              "#ed7953"
             ],
             [
              0.7777777777777778,
              "#fb9f3a"
             ],
             [
              0.8888888888888888,
              "#fdca26"
             ],
             [
              1,
              "#f0f921"
             ]
            ],
            "type": "heatmap"
           }
          ],
          "heatmapgl": [
           {
            "colorbar": {
             "outlinewidth": 0,
             "ticks": ""
            },
            "colorscale": [
             [
              0,
              "#0d0887"
             ],
             [
              0.1111111111111111,
              "#46039f"
             ],
             [
              0.2222222222222222,
              "#7201a8"
             ],
             [
              0.3333333333333333,
              "#9c179e"
             ],
             [
              0.4444444444444444,
              "#bd3786"
             ],
             [
              0.5555555555555556,
              "#d8576b"
             ],
             [
              0.6666666666666666,
              "#ed7953"
             ],
             [
              0.7777777777777778,
              "#fb9f3a"
             ],
             [
              0.8888888888888888,
              "#fdca26"
             ],
             [
              1,
              "#f0f921"
             ]
            ],
            "type": "heatmapgl"
           }
          ],
          "histogram": [
           {
            "marker": {
             "pattern": {
              "fillmode": "overlay",
              "size": 10,
              "solidity": 0.2
             }
            },
            "type": "histogram"
           }
          ],
          "histogram2d": [
           {
            "colorbar": {
             "outlinewidth": 0,
             "ticks": ""
            },
            "colorscale": [
             [
              0,
              "#0d0887"
             ],
             [
              0.1111111111111111,
              "#46039f"
             ],
             [
              0.2222222222222222,
              "#7201a8"
             ],
             [
              0.3333333333333333,
              "#9c179e"
             ],
             [
              0.4444444444444444,
              "#bd3786"
             ],
             [
              0.5555555555555556,
              "#d8576b"
             ],
             [
              0.6666666666666666,
              "#ed7953"
             ],
             [
              0.7777777777777778,
              "#fb9f3a"
             ],
             [
              0.8888888888888888,
              "#fdca26"
             ],
             [
              1,
              "#f0f921"
             ]
            ],
            "type": "histogram2d"
           }
          ],
          "histogram2dcontour": [
           {
            "colorbar": {
             "outlinewidth": 0,
             "ticks": ""
            },
            "colorscale": [
             [
              0,
              "#0d0887"
             ],
             [
              0.1111111111111111,
              "#46039f"
             ],
             [
              0.2222222222222222,
              "#7201a8"
             ],
             [
              0.3333333333333333,
              "#9c179e"
             ],
             [
              0.4444444444444444,
              "#bd3786"
             ],
             [
              0.5555555555555556,
              "#d8576b"
             ],
             [
              0.6666666666666666,
              "#ed7953"
             ],
             [
              0.7777777777777778,
              "#fb9f3a"
             ],
             [
              0.8888888888888888,
              "#fdca26"
             ],
             [
              1,
              "#f0f921"
             ]
            ],
            "type": "histogram2dcontour"
           }
          ],
          "mesh3d": [
           {
            "colorbar": {
             "outlinewidth": 0,
             "ticks": ""
            },
            "type": "mesh3d"
           }
          ],
          "parcoords": [
           {
            "line": {
             "colorbar": {
              "outlinewidth": 0,
              "ticks": ""
             }
            },
            "type": "parcoords"
           }
          ],
          "pie": [
           {
            "automargin": true,
            "type": "pie"
           }
          ],
          "scatter": [
           {
            "fillpattern": {
             "fillmode": "overlay",
             "size": 10,
             "solidity": 0.2
            },
            "type": "scatter"
           }
          ],
          "scatter3d": [
           {
            "line": {
             "colorbar": {
              "outlinewidth": 0,
              "ticks": ""
             }
            },
            "marker": {
             "colorbar": {
              "outlinewidth": 0,
              "ticks": ""
             }
            },
            "type": "scatter3d"
           }
          ],
          "scattercarpet": [
           {
            "marker": {
             "colorbar": {
              "outlinewidth": 0,
              "ticks": ""
             }
            },
            "type": "scattercarpet"
           }
          ],
          "scattergeo": [
           {
            "marker": {
             "colorbar": {
              "outlinewidth": 0,
              "ticks": ""
             }
            },
            "type": "scattergeo"
           }
          ],
          "scattergl": [
           {
            "marker": {
             "colorbar": {
              "outlinewidth": 0,
              "ticks": ""
             }
            },
            "type": "scattergl"
           }
          ],
          "scattermapbox": [
           {
            "marker": {
             "colorbar": {
              "outlinewidth": 0,
              "ticks": ""
             }
            },
            "type": "scattermapbox"
           }
          ],
          "scatterpolar": [
           {
            "marker": {
             "colorbar": {
              "outlinewidth": 0,
              "ticks": ""
             }
            },
            "type": "scatterpolar"
           }
          ],
          "scatterpolargl": [
           {
            "marker": {
             "colorbar": {
              "outlinewidth": 0,
              "ticks": ""
             }
            },
            "type": "scatterpolargl"
           }
          ],
          "scatterternary": [
           {
            "marker": {
             "colorbar": {
              "outlinewidth": 0,
              "ticks": ""
             }
            },
            "type": "scatterternary"
           }
          ],
          "surface": [
           {
            "colorbar": {
             "outlinewidth": 0,
             "ticks": ""
            },
            "colorscale": [
             [
              0,
              "#0d0887"
             ],
             [
              0.1111111111111111,
              "#46039f"
             ],
             [
              0.2222222222222222,
              "#7201a8"
             ],
             [
              0.3333333333333333,
              "#9c179e"
             ],
             [
              0.4444444444444444,
              "#bd3786"
             ],
             [
              0.5555555555555556,
              "#d8576b"
             ],
             [
              0.6666666666666666,
              "#ed7953"
             ],
             [
              0.7777777777777778,
              "#fb9f3a"
             ],
             [
              0.8888888888888888,
              "#fdca26"
             ],
             [
              1,
              "#f0f921"
             ]
            ],
            "type": "surface"
           }
          ],
          "table": [
           {
            "cells": {
             "fill": {
              "color": "#EBF0F8"
             },
             "line": {
              "color": "white"
             }
            },
            "header": {
             "fill": {
              "color": "#C8D4E3"
             },
             "line": {
              "color": "white"
             }
            },
            "type": "table"
           }
          ]
         },
         "layout": {
          "annotationdefaults": {
           "arrowcolor": "#2a3f5f",
           "arrowhead": 0,
           "arrowwidth": 1
          },
          "autotypenumbers": "strict",
          "coloraxis": {
           "colorbar": {
            "outlinewidth": 0,
            "ticks": ""
           }
          },
          "colorscale": {
           "diverging": [
            [
             0,
             "#8e0152"
            ],
            [
             0.1,
             "#c51b7d"
            ],
            [
             0.2,
             "#de77ae"
            ],
            [
             0.3,
             "#f1b6da"
            ],
            [
             0.4,
             "#fde0ef"
            ],
            [
             0.5,
             "#f7f7f7"
            ],
            [
             0.6,
             "#e6f5d0"
            ],
            [
             0.7,
             "#b8e186"
            ],
            [
             0.8,
             "#7fbc41"
            ],
            [
             0.9,
             "#4d9221"
            ],
            [
             1,
             "#276419"
            ]
           ],
           "sequential": [
            [
             0,
             "#0d0887"
            ],
            [
             0.1111111111111111,
             "#46039f"
            ],
            [
             0.2222222222222222,
             "#7201a8"
            ],
            [
             0.3333333333333333,
             "#9c179e"
            ],
            [
             0.4444444444444444,
             "#bd3786"
            ],
            [
             0.5555555555555556,
             "#d8576b"
            ],
            [
             0.6666666666666666,
             "#ed7953"
            ],
            [
             0.7777777777777778,
             "#fb9f3a"
            ],
            [
             0.8888888888888888,
             "#fdca26"
            ],
            [
             1,
             "#f0f921"
            ]
           ],
           "sequentialminus": [
            [
             0,
             "#0d0887"
            ],
            [
             0.1111111111111111,
             "#46039f"
            ],
            [
             0.2222222222222222,
             "#7201a8"
            ],
            [
             0.3333333333333333,
             "#9c179e"
            ],
            [
             0.4444444444444444,
             "#bd3786"
            ],
            [
             0.5555555555555556,
             "#d8576b"
            ],
            [
             0.6666666666666666,
             "#ed7953"
            ],
            [
             0.7777777777777778,
             "#fb9f3a"
            ],
            [
             0.8888888888888888,
             "#fdca26"
            ],
            [
             1,
             "#f0f921"
            ]
           ]
          },
          "colorway": [
           "#636efa",
           "#EF553B",
           "#00cc96",
           "#ab63fa",
           "#FFA15A",
           "#19d3f3",
           "#FF6692",
           "#B6E880",
           "#FF97FF",
           "#FECB52"
          ],
          "font": {
           "color": "#2a3f5f"
          },
          "geo": {
           "bgcolor": "white",
           "lakecolor": "white",
           "landcolor": "#E5ECF6",
           "showlakes": true,
           "showland": true,
           "subunitcolor": "white"
          },
          "hoverlabel": {
           "align": "left"
          },
          "hovermode": "closest",
          "mapbox": {
           "style": "light"
          },
          "paper_bgcolor": "white",
          "plot_bgcolor": "#E5ECF6",
          "polar": {
           "angularaxis": {
            "gridcolor": "white",
            "linecolor": "white",
            "ticks": ""
           },
           "bgcolor": "#E5ECF6",
           "radialaxis": {
            "gridcolor": "white",
            "linecolor": "white",
            "ticks": ""
           }
          },
          "scene": {
           "xaxis": {
            "backgroundcolor": "#E5ECF6",
            "gridcolor": "white",
            "gridwidth": 2,
            "linecolor": "white",
            "showbackground": true,
            "ticks": "",
            "zerolinecolor": "white"
           },
           "yaxis": {
            "backgroundcolor": "#E5ECF6",
            "gridcolor": "white",
            "gridwidth": 2,
            "linecolor": "white",
            "showbackground": true,
            "ticks": "",
            "zerolinecolor": "white"
           },
           "zaxis": {
            "backgroundcolor": "#E5ECF6",
            "gridcolor": "white",
            "gridwidth": 2,
            "linecolor": "white",
            "showbackground": true,
            "ticks": "",
            "zerolinecolor": "white"
           }
          },
          "shapedefaults": {
           "line": {
            "color": "#2a3f5f"
           }
          },
          "ternary": {
           "aaxis": {
            "gridcolor": "white",
            "linecolor": "white",
            "ticks": ""
           },
           "baxis": {
            "gridcolor": "white",
            "linecolor": "white",
            "ticks": ""
           },
           "bgcolor": "#E5ECF6",
           "caxis": {
            "gridcolor": "white",
            "linecolor": "white",
            "ticks": ""
           }
          },
          "title": {
           "x": 0.05
          },
          "xaxis": {
           "automargin": true,
           "gridcolor": "white",
           "linecolor": "white",
           "ticks": "",
           "title": {
            "standoff": 15
           },
           "zerolinecolor": "white",
           "zerolinewidth": 2
          },
          "yaxis": {
           "automargin": true,
           "gridcolor": "white",
           "linecolor": "white",
           "ticks": "",
           "title": {
            "standoff": 15
           },
           "zerolinecolor": "white",
           "zerolinewidth": 2
          }
         }
        }
       }
      }
     },
     "metadata": {},
     "output_type": "display_data"
    }
   ],
   "source": [
    "import plotly.express as px\n",
    "#plot average affortabilities accross the U.S. on map\n",
    "fig = px.choropleth(df,\n",
    "                    locations='RegionName', \n",
    "                    locationmode=\"USA-states\", \n",
    "                    scope=\"usa\",\n",
    "                    color='1999-2016_Avg',\n",
    "                    color_continuous_scale=\"Viridis_r\", \n",
    "                    )\n",
    "\n",
    "fig.show()"
   ]
  },
  {
   "cell_type": "code",
   "execution_count": null,
   "metadata": {},
   "outputs": [
    {
     "data": {
      "text/plain": [
       "[Text(0.5, 1.0, 'Population vs. Mortgage Affordability'),\n",
       " Text(0.5, 0, 'Affordability(Average Mortgage to Income Ratio)'),\n",
       " Text(0, 0.5, 'Population (decreasing top to bottom)')]"
      ]
     },
     "execution_count": null,
     "metadata": {},
     "output_type": "execute_result"
    },
    {
     "data": {
      "image/png": "[encoded data removed]",
      "text/plain": [
       "<Figure size 640x480 with 1 Axes>"
      ]
     },
     "metadata": {},
     "output_type": "display_data"
    }
   ],
   "source": [
    "df =df.sort_values('PopRank')\n",
    "bar = sns.barplot(df, x='1999-2016_Avg', y='RegionName', orient='h')\n",
    "bar.set(title='Population vs. Mortgage Affordability', xlabel= 'Affordability(Average Mortgage to Income Ratio)', ylabel='Population (decreasing top to bottom)')"
   ]
  },
  {
   "cell_type": "markdown",
   "metadata": {},
   "source": [
    "#### realization \n",
    "\n",
    "can't order by population rank of states since data does not account for all regions in a state"
   ]
  },
  {
   "cell_type": "code",
   "execution_count": null,
   "metadata": {},
   "outputs": [
    {
     "data": {
      "text/html": [
       "<div>\n",
       "<style scoped>\n",
       "    .dataframe tbody tr th:only-of-type {\n",
       "        vertical-align: middle;\n",
       "    }\n",
       "\n",
       "    .dataframe tbody tr th {\n",
       "        vertical-align: top;\n",
       "    }\n",
       "\n",
       "    .dataframe thead th {\n",
       "        text-align: right;\n",
       "    }\n",
       "</style>\n",
       "<table border=\"1\" class=\"dataframe\">\n",
       "  <thead>\n",
       "    <tr style=\"text-align: right;\">\n",
       "      <th></th>\n",
       "      <th>tier</th>\n",
       "      <th>variable</th>\n",
       "      <th>value</th>\n",
       "    </tr>\n",
       "  </thead>\n",
       "  <tbody>\n",
       "    <tr>\n",
       "      <th>0</th>\n",
       "      <td>Bottom Tier</td>\n",
       "      <td>1999-06-30</td>\n",
       "      <td>0.300007</td>\n",
       "    </tr>\n",
       "    <tr>\n",
       "      <th>1</th>\n",
       "      <td>Middle Tier</td>\n",
       "      <td>1999-06-30</td>\n",
       "      <td>0.183958</td>\n",
       "    </tr>\n",
       "    <tr>\n",
       "      <th>2</th>\n",
       "      <td>Upper Tier</td>\n",
       "      <td>1999-06-30</td>\n",
       "      <td>0.147950</td>\n",
       "    </tr>\n",
       "    <tr>\n",
       "      <th>3</th>\n",
       "      <td>Bottom Tier</td>\n",
       "      <td>1999-09-30</td>\n",
       "      <td>0.315030</td>\n",
       "    </tr>\n",
       "    <tr>\n",
       "      <th>4</th>\n",
       "      <td>Middle Tier</td>\n",
       "      <td>1999-09-30</td>\n",
       "      <td>0.191210</td>\n",
       "    </tr>\n",
       "    <tr>\n",
       "      <th>...</th>\n",
       "      <td>...</td>\n",
       "      <td>...</td>\n",
       "      <td>...</td>\n",
       "    </tr>\n",
       "    <tr>\n",
       "      <th>202</th>\n",
       "      <td>Middle Tier</td>\n",
       "      <td>2016-03-31</td>\n",
       "      <td>0.142884</td>\n",
       "    </tr>\n",
       "    <tr>\n",
       "      <th>203</th>\n",
       "      <td>Upper Tier</td>\n",
       "      <td>2016-03-31</td>\n",
       "      <td>0.110954</td>\n",
       "    </tr>\n",
       "    <tr>\n",
       "      <th>204</th>\n",
       "      <td>Bottom Tier</td>\n",
       "      <td>2016-06-30</td>\n",
       "      <td>0.230251</td>\n",
       "    </tr>\n",
       "    <tr>\n",
       "      <th>205</th>\n",
       "      <td>Middle Tier</td>\n",
       "      <td>2016-06-30</td>\n",
       "      <td>0.142414</td>\n",
       "    </tr>\n",
       "    <tr>\n",
       "      <th>206</th>\n",
       "      <td>Upper Tier</td>\n",
       "      <td>2016-06-30</td>\n",
       "      <td>0.110559</td>\n",
       "    </tr>\n",
       "  </tbody>\n",
       "</table>\n",
       "<p>207 rows × 3 columns</p>\n",
       "</div>"
      ],
      "text/plain": [
       "            tier    variable     value\n",
       "0    Bottom Tier  1999-06-30  0.300007\n",
       "1    Middle Tier  1999-06-30  0.183958\n",
       "2     Upper Tier  1999-06-30  0.147950\n",
       "3    Bottom Tier  1999-09-30  0.315030\n",
       "4    Middle Tier  1999-09-30  0.191210\n",
       "..           ...         ...       ...\n",
       "202  Middle Tier  2016-03-31  0.142884\n",
       "203   Upper Tier  2016-03-31  0.110954\n",
       "204  Bottom Tier  2016-06-30  0.230251\n",
       "205  Middle Tier  2016-06-30  0.142414\n",
       "206   Upper Tier  2016-06-30  0.110559\n",
       "\n",
       "[207 rows x 3 columns]"
      ]
     },
     "execution_count": null,
     "metadata": {},
     "output_type": "execute_result"
    }
   ],
   "source": [
    "\n",
    "columns = df_avg.columns[4:-1]\n",
    "us = df_avg.iloc[:3]\n",
    "us = us.melt(id_vars='tier', value_vars=columns)\n",
    "us"
   ]
  },
  {
   "cell_type": "code",
   "execution_count": null,
   "metadata": {},
   "outputs": [
    {
     "data": {
      "text/plain": [
       "[Text(0.5, 1.0, 'Mortgage Affordabilty in the U.S.'),\n",
       " Text(0.5, 0, 'Date'),\n",
       " Text(0, 0.5, 'Average Mortgage Price to Income Ratio')]"
      ]
     },
     "execution_count": null,
     "metadata": {},
     "output_type": "execute_result"
    },
    {
     "data": {
      "image/png": "[encoded data removed]",
      "text/plain": [
       "<Figure size 640x480 with 1 Axes>"
      ]
     },
     "metadata": {},
     "output_type": "display_data"
    }
   ],
   "source": [
    "us['date'] =  pd.to_datetime(us['variable'], format=\"%Y-%m-%d\")\n",
    "us = us.drop(columns=['variable',])\n",
    "tier_rel = sns.lineplot(us, x='date', y='value', hue='tier')\n",
    "tier_rel.set(title='Mortgage Affordabilty in the U.S.', xlabel='Date', ylabel='Average Mortgage Price to Income Ratio')"
   ]
  },
  {
   "attachments": {},
   "cell_type": "markdown",
   "metadata": {},
   "source": [
    "## Research question/interests (Refined)\n",
    "\n",
    "**Is there a relationship between mortgage affordability and metroplolitan area population? is a region with a larger population more likely to be less affordable**\n",
    "\n",
    "**How does mortgage afforability change with time for differnt tiers? Do all tiers follow the same trend or do they have their own? If they do, (as one tier goes up/down so does the other) is it a constant relationship (change at same rate) or not (e.i. as one increases/decreases does the other increase/decrease more/less rapidly**\n",
    "\n",
    "\n",
    "\n",
    "\n",
    " "
   ]
  }
 ],
 "metadata": {
  "kernelspec": {
   "display_name": "Python 3 (ipykernel)",
   "language": "python",
   "name": "python3"
  }
 },
 "nbformat": 4,
 "nbformat_minor": 4
}

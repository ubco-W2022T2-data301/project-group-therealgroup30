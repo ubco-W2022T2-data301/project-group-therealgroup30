{
 "cells": [
  {
   "attachments": {},
   "cell_type": "markdown",
   "metadata": {},
   "source": [
    "# Will Garbutt"
   ]
  },
  {
   "cell_type": "code",
   "execution_count": null,
   "metadata": {},
   "outputs": [],
   "source": [
    "import pandas as pd\n",
    "df = pd.read_csv('../data/raw/TieredAffordability_Mortgage.csv')\n",
    "df"
   ]
  },
  {
   "attachments": {},
   "cell_type": "markdown",
   "metadata": {},
   "source": [
    "## Research question/interests\n",
    "\n",
    "**What is the Relationship between mortgage affordability and metroplolitan area population?**\n",
    "\n",
    "To answer this question/visualize it I would find the average mortgage affortability of each area and plot them against their respective population rank. This could be shown with a bar plot.\n",
    "\n",
    "**How does mortgage afforability change with time for differnt tiers? Do all tiers follow the same trend or do they have their own?**\n",
    "\n",
    "Average each tier over all areas and plot each one against time and see how they compare to eachother.\n",
    " "
   ]
  }
 ],
 "metadata": {
  "kernelspec": {
   "display_name": "base",
   "language": "python",
   "name": "python3"
  }
 },
 "nbformat": 4,
 "nbformat_minor": 2
}

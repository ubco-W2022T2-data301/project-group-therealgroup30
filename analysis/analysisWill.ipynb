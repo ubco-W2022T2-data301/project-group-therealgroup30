{
 "cells": [
  {
   "cell_type": "markdown",
   "metadata": {},
   "source": [
    "# Will Garbutt"
   ]
  },
  {
   "cell_type": "markdown",
   "metadata": {},
   "source": [
    "## Research question/interests\n",
    "\n",
    "**What is the Relationship between mortgage affordability and metroplolitan area population?**\n",
    "\n",
    "To answer this question/visualize it I would find the average mortgage affortability of each area and plot them against their respective population rank. This could be shown with a bar plot.\n",
    "\n",
    "**How does mortgage afforability change with time for differnt tiers? Do all tiers follow the same trend or do they have their own?**\n",
    "\n",
    "Average each tier over all areas and plot each one against time and see how they compare to eachother.\n",
    "\n",
    "\n",
    "# EDA\n",
    " "
   ]
  },
  {
   "cell_type": "code",
   "execution_count": null,
   "metadata": {},
   "outputs": [],
   "source": [
    "import pandas as pd\n",
    "import numpy as np\n",
    "import seaborn as sns\n",
    "import matplotlib.pyplot as plt\n",
    "\n",
    "#project functions\n",
    "import sys\n",
    "sys.path.append('./code') \n",
    "import project_functions_will as func"
   ]
  },
  {
   "cell_type": "code",
   "execution_count": null,
   "metadata": {},
   "outputs": [
    {
     "data": {
      "text/html": [
       "<div>\n",
       "<style scoped>\n",
       "    .dataframe tbody tr th:only-of-type {\n",
       "        vertical-align: middle;\n",
       "    }\n",
       "\n",
       "    .dataframe tbody tr th {\n",
       "        vertical-align: top;\n",
       "    }\n",
       "\n",
       "    .dataframe thead th {\n",
       "        text-align: right;\n",
       "    }\n",
       "</style>\n",
       "<table border=\"1\" class=\"dataframe\">\n",
       "  <thead>\n",
       "    <tr style=\"text-align: right;\">\n",
       "      <th></th>\n",
       "      <th>RegionID</th>\n",
       "      <th>RegionName</th>\n",
       "      <th>PopRank</th>\n",
       "      <th>tier</th>\n",
       "      <th>1999-06-30</th>\n",
       "      <th>1999-09-30</th>\n",
       "      <th>1999-12-31</th>\n",
       "      <th>2000-03-31</th>\n",
       "      <th>2000-06-30</th>\n",
       "      <th>2000-09-30</th>\n",
       "      <th>...</th>\n",
       "      <th>2014-03-31</th>\n",
       "      <th>2014-06-30</th>\n",
       "      <th>2014-09-30</th>\n",
       "      <th>2014-12-31</th>\n",
       "      <th>2015-03-31</th>\n",
       "      <th>2015-06-30</th>\n",
       "      <th>2015-09-30</th>\n",
       "      <th>2015-12-31</th>\n",
       "      <th>2016-03-31</th>\n",
       "      <th>2016-06-30</th>\n",
       "    </tr>\n",
       "  </thead>\n",
       "  <tbody>\n",
       "    <tr>\n",
       "      <th>0</th>\n",
       "      <td>102001</td>\n",
       "      <td>United States</td>\n",
       "      <td>0</td>\n",
       "      <td>Bottom Tier</td>\n",
       "      <td>0.300007</td>\n",
       "      <td>0.315030</td>\n",
       "      <td>0.316834</td>\n",
       "      <td>0.334600</td>\n",
       "      <td>0.343596</td>\n",
       "      <td>0.337009</td>\n",
       "      <td>...</td>\n",
       "      <td>0.218583</td>\n",
       "      <td>0.214530</td>\n",
       "      <td>0.216564</td>\n",
       "      <td>0.216521</td>\n",
       "      <td>0.213811</td>\n",
       "      <td>0.219128</td>\n",
       "      <td>0.226646</td>\n",
       "      <td>0.231051</td>\n",
       "      <td>0.226693</td>\n",
       "      <td>0.230251</td>\n",
       "    </tr>\n",
       "    <tr>\n",
       "      <th>1</th>\n",
       "      <td>102001</td>\n",
       "      <td>United States</td>\n",
       "      <td>0</td>\n",
       "      <td>Middle Tier</td>\n",
       "      <td>0.183958</td>\n",
       "      <td>0.191210</td>\n",
       "      <td>0.196901</td>\n",
       "      <td>0.206566</td>\n",
       "      <td>0.210426</td>\n",
       "      <td>0.204491</td>\n",
       "      <td>...</td>\n",
       "      <td>0.151174</td>\n",
       "      <td>0.148104</td>\n",
       "      <td>0.147641</td>\n",
       "      <td>0.142041</td>\n",
       "      <td>0.140656</td>\n",
       "      <td>0.145460</td>\n",
       "      <td>0.144927</td>\n",
       "      <td>0.146747</td>\n",
       "      <td>0.142884</td>\n",
       "      <td>0.142414</td>\n",
       "    </tr>\n",
       "    <tr>\n",
       "      <th>2</th>\n",
       "      <td>102001</td>\n",
       "      <td>United States</td>\n",
       "      <td>0</td>\n",
       "      <td>Upper Tier</td>\n",
       "      <td>0.147950</td>\n",
       "      <td>0.155872</td>\n",
       "      <td>0.157198</td>\n",
       "      <td>0.166470</td>\n",
       "      <td>0.171481</td>\n",
       "      <td>0.168676</td>\n",
       "      <td>...</td>\n",
       "      <td>0.118414</td>\n",
       "      <td>0.116467</td>\n",
       "      <td>0.116019</td>\n",
       "      <td>0.114419</td>\n",
       "      <td>0.111791</td>\n",
       "      <td>0.112807</td>\n",
       "      <td>0.114031</td>\n",
       "      <td>0.114362</td>\n",
       "      <td>0.110954</td>\n",
       "      <td>0.110559</td>\n",
       "    </tr>\n",
       "    <tr>\n",
       "      <th>3</th>\n",
       "      <td>394347</td>\n",
       "      <td>Atlanta, GA</td>\n",
       "      <td>9</td>\n",
       "      <td>Bottom Tier</td>\n",
       "      <td>0.252002</td>\n",
       "      <td>0.267823</td>\n",
       "      <td>0.273127</td>\n",
       "      <td>0.293248</td>\n",
       "      <td>0.303532</td>\n",
       "      <td>0.299580</td>\n",
       "      <td>...</td>\n",
       "      <td>0.152979</td>\n",
       "      <td>0.153131</td>\n",
       "      <td>0.156237</td>\n",
       "      <td>0.157940</td>\n",
       "      <td>0.156826</td>\n",
       "      <td>0.163094</td>\n",
       "      <td>0.169798</td>\n",
       "      <td>0.174702</td>\n",
       "      <td>0.171642</td>\n",
       "      <td>0.173135</td>\n",
       "    </tr>\n",
       "    <tr>\n",
       "      <th>4</th>\n",
       "      <td>394347</td>\n",
       "      <td>Atlanta, GA</td>\n",
       "      <td>9</td>\n",
       "      <td>Middle Tier</td>\n",
       "      <td>0.164372</td>\n",
       "      <td>0.171317</td>\n",
       "      <td>0.176344</td>\n",
       "      <td>0.183898</td>\n",
       "      <td>0.185946</td>\n",
       "      <td>0.181044</td>\n",
       "      <td>...</td>\n",
       "      <td>0.118612</td>\n",
       "      <td>0.117381</td>\n",
       "      <td>0.117480</td>\n",
       "      <td>0.113326</td>\n",
       "      <td>0.113214</td>\n",
       "      <td>0.117454</td>\n",
       "      <td>0.118066</td>\n",
       "      <td>0.120754</td>\n",
       "      <td>0.117895</td>\n",
       "      <td>0.117187</td>\n",
       "    </tr>\n",
       "  </tbody>\n",
       "</table>\n",
       "<p>5 rows × 73 columns</p>\n",
       "</div>"
      ],
      "text/plain": [
       "   RegionID     RegionName  PopRank         tier  1999-06-30  1999-09-30  \\\n",
       "0    102001  United States        0  Bottom Tier    0.300007    0.315030   \n",
       "1    102001  United States        0  Middle Tier    0.183958    0.191210   \n",
       "2    102001  United States        0   Upper Tier    0.147950    0.155872   \n",
       "3    394347    Atlanta, GA        9  Bottom Tier    0.252002    0.267823   \n",
       "4    394347    Atlanta, GA        9  Middle Tier    0.164372    0.171317   \n",
       "\n",
       "   1999-12-31  2000-03-31  2000-06-30  2000-09-30  ...  2014-03-31  \\\n",
       "0    0.316834    0.334600    0.343596    0.337009  ...    0.218583   \n",
       "1    0.196901    0.206566    0.210426    0.204491  ...    0.151174   \n",
       "2    0.157198    0.166470    0.171481    0.168676  ...    0.118414   \n",
       "3    0.273127    0.293248    0.303532    0.299580  ...    0.152979   \n",
       "4    0.176344    0.183898    0.185946    0.181044  ...    0.118612   \n",
       "\n",
       "   2014-06-30  2014-09-30  2014-12-31  2015-03-31  2015-06-30  2015-09-30  \\\n",
       "0    0.214530    0.216564    0.216521    0.213811    0.219128    0.226646   \n",
       "1    0.148104    0.147641    0.142041    0.140656    0.145460    0.144927   \n",
       "2    0.116467    0.116019    0.114419    0.111791    0.112807    0.114031   \n",
       "3    0.153131    0.156237    0.157940    0.156826    0.163094    0.169798   \n",
       "4    0.117381    0.117480    0.113326    0.113214    0.117454    0.118066   \n",
       "\n",
       "   2015-12-31  2016-03-31  2016-06-30  \n",
       "0    0.231051    0.226693    0.230251  \n",
       "1    0.146747    0.142884    0.142414  \n",
       "2    0.114362    0.110954    0.110559  \n",
       "3    0.174702    0.171642    0.173135  \n",
       "4    0.120754    0.117895    0.117187  \n",
       "\n",
       "[5 rows x 73 columns]"
      ]
     },
     "execution_count": null,
     "metadata": {},
     "output_type": "execute_result"
    }
   ],
   "source": [
    "#get initial data\n",
    "raw = '../data/raw/TieredAffordability_Mortgage.csv'\n",
    "df = pd.read_csv(raw)\n",
    "df.head()\n"
   ]
  },
  {
   "cell_type": "code",
   "execution_count": null,
   "metadata": {},
   "outputs": [
    {
     "data": {
      "text/html": [
       "<div>\n",
       "<style scoped>\n",
       "    .dataframe tbody tr th:only-of-type {\n",
       "        vertical-align: middle;\n",
       "    }\n",
       "\n",
       "    .dataframe tbody tr th {\n",
       "        vertical-align: top;\n",
       "    }\n",
       "\n",
       "    .dataframe thead th {\n",
       "        text-align: right;\n",
       "    }\n",
       "</style>\n",
       "<table border=\"1\" class=\"dataframe\">\n",
       "  <thead>\n",
       "    <tr style=\"text-align: right;\">\n",
       "      <th></th>\n",
       "      <th>RegionID</th>\n",
       "      <th>RegionName</th>\n",
       "      <th>PopRank</th>\n",
       "      <th>tier</th>\n",
       "      <th>1999-06-30</th>\n",
       "      <th>1999-09-30</th>\n",
       "      <th>1999-12-31</th>\n",
       "      <th>2000-03-31</th>\n",
       "      <th>2000-06-30</th>\n",
       "      <th>2000-09-30</th>\n",
       "      <th>...</th>\n",
       "      <th>2014-06-30</th>\n",
       "      <th>2014-09-30</th>\n",
       "      <th>2014-12-31</th>\n",
       "      <th>2015-03-31</th>\n",
       "      <th>2015-06-30</th>\n",
       "      <th>2015-09-30</th>\n",
       "      <th>2015-12-31</th>\n",
       "      <th>2016-03-31</th>\n",
       "      <th>2016-06-30</th>\n",
       "      <th>Average_affordability</th>\n",
       "    </tr>\n",
       "  </thead>\n",
       "  <tbody>\n",
       "    <tr>\n",
       "      <th>0</th>\n",
       "      <td>102001</td>\n",
       "      <td>United States</td>\n",
       "      <td>0</td>\n",
       "      <td>Bottom Tier</td>\n",
       "      <td>0.300007</td>\n",
       "      <td>0.315030</td>\n",
       "      <td>0.316834</td>\n",
       "      <td>0.334600</td>\n",
       "      <td>0.343596</td>\n",
       "      <td>0.337009</td>\n",
       "      <td>...</td>\n",
       "      <td>0.214530</td>\n",
       "      <td>0.216564</td>\n",
       "      <td>0.216521</td>\n",
       "      <td>0.213811</td>\n",
       "      <td>0.219128</td>\n",
       "      <td>0.226646</td>\n",
       "      <td>0.231051</td>\n",
       "      <td>0.226693</td>\n",
       "      <td>0.230251</td>\n",
       "      <td>0.294283</td>\n",
       "    </tr>\n",
       "    <tr>\n",
       "      <th>1</th>\n",
       "      <td>102001</td>\n",
       "      <td>United States</td>\n",
       "      <td>0</td>\n",
       "      <td>Middle Tier</td>\n",
       "      <td>0.183958</td>\n",
       "      <td>0.191210</td>\n",
       "      <td>0.196901</td>\n",
       "      <td>0.206566</td>\n",
       "      <td>0.210426</td>\n",
       "      <td>0.204491</td>\n",
       "      <td>...</td>\n",
       "      <td>0.148104</td>\n",
       "      <td>0.147641</td>\n",
       "      <td>0.142041</td>\n",
       "      <td>0.140656</td>\n",
       "      <td>0.145460</td>\n",
       "      <td>0.144927</td>\n",
       "      <td>0.146747</td>\n",
       "      <td>0.142884</td>\n",
       "      <td>0.142414</td>\n",
       "      <td>0.182545</td>\n",
       "    </tr>\n",
       "    <tr>\n",
       "      <th>2</th>\n",
       "      <td>102001</td>\n",
       "      <td>United States</td>\n",
       "      <td>0</td>\n",
       "      <td>Upper Tier</td>\n",
       "      <td>0.147950</td>\n",
       "      <td>0.155872</td>\n",
       "      <td>0.157198</td>\n",
       "      <td>0.166470</td>\n",
       "      <td>0.171481</td>\n",
       "      <td>0.168676</td>\n",
       "      <td>...</td>\n",
       "      <td>0.116467</td>\n",
       "      <td>0.116019</td>\n",
       "      <td>0.114419</td>\n",
       "      <td>0.111791</td>\n",
       "      <td>0.112807</td>\n",
       "      <td>0.114031</td>\n",
       "      <td>0.114362</td>\n",
       "      <td>0.110954</td>\n",
       "      <td>0.110559</td>\n",
       "      <td>0.148892</td>\n",
       "    </tr>\n",
       "    <tr>\n",
       "      <th>3</th>\n",
       "      <td>394347</td>\n",
       "      <td>Atlanta, GA</td>\n",
       "      <td>9</td>\n",
       "      <td>Bottom Tier</td>\n",
       "      <td>0.252002</td>\n",
       "      <td>0.267823</td>\n",
       "      <td>0.273127</td>\n",
       "      <td>0.293248</td>\n",
       "      <td>0.303532</td>\n",
       "      <td>0.299580</td>\n",
       "      <td>...</td>\n",
       "      <td>0.153131</td>\n",
       "      <td>0.156237</td>\n",
       "      <td>0.157940</td>\n",
       "      <td>0.156826</td>\n",
       "      <td>0.163094</td>\n",
       "      <td>0.169798</td>\n",
       "      <td>0.174702</td>\n",
       "      <td>0.171642</td>\n",
       "      <td>0.173135</td>\n",
       "      <td>0.241499</td>\n",
       "    </tr>\n",
       "    <tr>\n",
       "      <th>4</th>\n",
       "      <td>394347</td>\n",
       "      <td>Atlanta, GA</td>\n",
       "      <td>9</td>\n",
       "      <td>Middle Tier</td>\n",
       "      <td>0.164372</td>\n",
       "      <td>0.171317</td>\n",
       "      <td>0.176344</td>\n",
       "      <td>0.183898</td>\n",
       "      <td>0.185946</td>\n",
       "      <td>0.181044</td>\n",
       "      <td>...</td>\n",
       "      <td>0.117381</td>\n",
       "      <td>0.117480</td>\n",
       "      <td>0.113326</td>\n",
       "      <td>0.113214</td>\n",
       "      <td>0.117454</td>\n",
       "      <td>0.118066</td>\n",
       "      <td>0.120754</td>\n",
       "      <td>0.117895</td>\n",
       "      <td>0.117187</td>\n",
       "      <td>0.147793</td>\n",
       "    </tr>\n",
       "    <tr>\n",
       "      <th>...</th>\n",
       "      <td>...</td>\n",
       "      <td>...</td>\n",
       "      <td>...</td>\n",
       "      <td>...</td>\n",
       "      <td>...</td>\n",
       "      <td>...</td>\n",
       "      <td>...</td>\n",
       "      <td>...</td>\n",
       "      <td>...</td>\n",
       "      <td>...</td>\n",
       "      <td>...</td>\n",
       "      <td>...</td>\n",
       "      <td>...</td>\n",
       "      <td>...</td>\n",
       "      <td>...</td>\n",
       "      <td>...</td>\n",
       "      <td>...</td>\n",
       "      <td>...</td>\n",
       "      <td>...</td>\n",
       "      <td>...</td>\n",
       "      <td>...</td>\n",
       "    </tr>\n",
       "    <tr>\n",
       "      <th>142</th>\n",
       "      <td>395209</td>\n",
       "      <td>Washington, DC</td>\n",
       "      <td>7</td>\n",
       "      <td>Middle Tier</td>\n",
       "      <td>0.172152</td>\n",
       "      <td>0.177780</td>\n",
       "      <td>0.182145</td>\n",
       "      <td>0.189783</td>\n",
       "      <td>0.193100</td>\n",
       "      <td>0.187900</td>\n",
       "      <td>...</td>\n",
       "      <td>0.182190</td>\n",
       "      <td>0.181112</td>\n",
       "      <td>0.174821</td>\n",
       "      <td>0.173381</td>\n",
       "      <td>0.178910</td>\n",
       "      <td>0.177032</td>\n",
       "      <td>0.178584</td>\n",
       "      <td>0.172367</td>\n",
       "      <td>0.169965</td>\n",
       "      <td>0.210889</td>\n",
       "    </tr>\n",
       "    <tr>\n",
       "      <th>143</th>\n",
       "      <td>395209</td>\n",
       "      <td>Washington, DC</td>\n",
       "      <td>7</td>\n",
       "      <td>Upper Tier</td>\n",
       "      <td>0.143937</td>\n",
       "      <td>0.152711</td>\n",
       "      <td>0.154567</td>\n",
       "      <td>0.165191</td>\n",
       "      <td>0.171749</td>\n",
       "      <td>0.171423</td>\n",
       "      <td>...</td>\n",
       "      <td>0.151683</td>\n",
       "      <td>0.149672</td>\n",
       "      <td>0.147656</td>\n",
       "      <td>0.144108</td>\n",
       "      <td>0.144019</td>\n",
       "      <td>0.144066</td>\n",
       "      <td>0.143958</td>\n",
       "      <td>0.139361</td>\n",
       "      <td>0.137443</td>\n",
       "      <td>0.175876</td>\n",
       "    </tr>\n",
       "    <tr>\n",
       "      <th>144</th>\n",
       "      <td>753899</td>\n",
       "      <td>Los Angeles-Long Beach-Anaheim, CA</td>\n",
       "      <td>2</td>\n",
       "      <td>Bottom Tier</td>\n",
       "      <td>0.558370</td>\n",
       "      <td>0.583666</td>\n",
       "      <td>0.591128</td>\n",
       "      <td>0.632834</td>\n",
       "      <td>0.655198</td>\n",
       "      <td>0.645562</td>\n",
       "      <td>...</td>\n",
       "      <td>0.743749</td>\n",
       "      <td>0.754011</td>\n",
       "      <td>0.750753</td>\n",
       "      <td>0.743036</td>\n",
       "      <td>0.758846</td>\n",
       "      <td>0.775822</td>\n",
       "      <td>0.792530</td>\n",
       "      <td>0.782563</td>\n",
       "      <td>0.789578</td>\n",
       "      <td>0.809504</td>\n",
       "    </tr>\n",
       "    <tr>\n",
       "      <th>145</th>\n",
       "      <td>753899</td>\n",
       "      <td>Los Angeles-Long Beach-Anaheim, CA</td>\n",
       "      <td>2</td>\n",
       "      <td>Middle Tier</td>\n",
       "      <td>0.305483</td>\n",
       "      <td>0.317189</td>\n",
       "      <td>0.328168</td>\n",
       "      <td>0.346593</td>\n",
       "      <td>0.354193</td>\n",
       "      <td>0.345239</td>\n",
       "      <td>...</td>\n",
       "      <td>0.393393</td>\n",
       "      <td>0.395619</td>\n",
       "      <td>0.383162</td>\n",
       "      <td>0.382531</td>\n",
       "      <td>0.396277</td>\n",
       "      <td>0.395686</td>\n",
       "      <td>0.402116</td>\n",
       "      <td>0.393042</td>\n",
       "      <td>0.390708</td>\n",
       "      <td>0.425333</td>\n",
       "    </tr>\n",
       "    <tr>\n",
       "      <th>146</th>\n",
       "      <td>753899</td>\n",
       "      <td>Los Angeles-Long Beach-Anaheim, CA</td>\n",
       "      <td>2</td>\n",
       "      <td>Upper Tier</td>\n",
       "      <td>0.241951</td>\n",
       "      <td>0.254095</td>\n",
       "      <td>0.258083</td>\n",
       "      <td>0.275270</td>\n",
       "      <td>0.283944</td>\n",
       "      <td>0.279486</td>\n",
       "      <td>...</td>\n",
       "      <td>0.272818</td>\n",
       "      <td>0.272508</td>\n",
       "      <td>0.269339</td>\n",
       "      <td>0.265556</td>\n",
       "      <td>0.267663</td>\n",
       "      <td>0.270638</td>\n",
       "      <td>0.273623</td>\n",
       "      <td>0.267751</td>\n",
       "      <td>0.266515</td>\n",
       "      <td>0.307019</td>\n",
       "    </tr>\n",
       "  </tbody>\n",
       "</table>\n",
       "<p>147 rows × 74 columns</p>\n",
       "</div>"
      ],
      "text/plain": [
       "     RegionID                          RegionName  PopRank         tier  \\\n",
       "0      102001                       United States        0  Bottom Tier   \n",
       "1      102001                       United States        0  Middle Tier   \n",
       "2      102001                       United States        0   Upper Tier   \n",
       "3      394347                         Atlanta, GA        9  Bottom Tier   \n",
       "4      394347                         Atlanta, GA        9  Middle Tier   \n",
       "..        ...                                 ...      ...          ...   \n",
       "142    395209                      Washington, DC        7  Middle Tier   \n",
       "143    395209                      Washington, DC        7   Upper Tier   \n",
       "144    753899  Los Angeles-Long Beach-Anaheim, CA        2  Bottom Tier   \n",
       "145    753899  Los Angeles-Long Beach-Anaheim, CA        2  Middle Tier   \n",
       "146    753899  Los Angeles-Long Beach-Anaheim, CA        2   Upper Tier   \n",
       "\n",
       "     1999-06-30  1999-09-30  1999-12-31  2000-03-31  2000-06-30  2000-09-30  \\\n",
       "0      0.300007    0.315030    0.316834    0.334600    0.343596    0.337009   \n",
       "1      0.183958    0.191210    0.196901    0.206566    0.210426    0.204491   \n",
       "2      0.147950    0.155872    0.157198    0.166470    0.171481    0.168676   \n",
       "3      0.252002    0.267823    0.273127    0.293248    0.303532    0.299580   \n",
       "4      0.164372    0.171317    0.176344    0.183898    0.185946    0.181044   \n",
       "..          ...         ...         ...         ...         ...         ...   \n",
       "142    0.172152    0.177780    0.182145    0.189783    0.193100    0.187900   \n",
       "143    0.143937    0.152711    0.154567    0.165191    0.171749    0.171423   \n",
       "144    0.558370    0.583666    0.591128    0.632834    0.655198    0.645562   \n",
       "145    0.305483    0.317189    0.328168    0.346593    0.354193    0.345239   \n",
       "146    0.241951    0.254095    0.258083    0.275270    0.283944    0.279486   \n",
       "\n",
       "     ...  2014-06-30  2014-09-30  2014-12-31  2015-03-31  2015-06-30  \\\n",
       "0    ...    0.214530    0.216564    0.216521    0.213811    0.219128   \n",
       "1    ...    0.148104    0.147641    0.142041    0.140656    0.145460   \n",
       "2    ...    0.116467    0.116019    0.114419    0.111791    0.112807   \n",
       "3    ...    0.153131    0.156237    0.157940    0.156826    0.163094   \n",
       "4    ...    0.117381    0.117480    0.113326    0.113214    0.117454   \n",
       "..   ...         ...         ...         ...         ...         ...   \n",
       "142  ...    0.182190    0.181112    0.174821    0.173381    0.178910   \n",
       "143  ...    0.151683    0.149672    0.147656    0.144108    0.144019   \n",
       "144  ...    0.743749    0.754011    0.750753    0.743036    0.758846   \n",
       "145  ...    0.393393    0.395619    0.383162    0.382531    0.396277   \n",
       "146  ...    0.272818    0.272508    0.269339    0.265556    0.267663   \n",
       "\n",
       "     2015-09-30  2015-12-31  2016-03-31  2016-06-30  Average_affordability  \n",
       "0      0.226646    0.231051    0.226693    0.230251               0.294283  \n",
       "1      0.144927    0.146747    0.142884    0.142414               0.182545  \n",
       "2      0.114031    0.114362    0.110954    0.110559               0.148892  \n",
       "3      0.169798    0.174702    0.171642    0.173135               0.241499  \n",
       "4      0.118066    0.120754    0.117895    0.117187               0.147793  \n",
       "..          ...         ...         ...         ...                    ...  \n",
       "142    0.177032    0.178584    0.172367    0.169965               0.210889  \n",
       "143    0.144066    0.143958    0.139361    0.137443               0.175876  \n",
       "144    0.775822    0.792530    0.782563    0.789578               0.809504  \n",
       "145    0.395686    0.402116    0.393042    0.390708               0.425333  \n",
       "146    0.270638    0.273623    0.267751    0.266515               0.307019  \n",
       "\n",
       "[147 rows x 74 columns]"
      ]
     },
     "execution_count": null,
     "metadata": {},
     "output_type": "execute_result"
    }
   ],
   "source": [
    "#average data accross all times\n",
    "\n",
    "#df_avg = df\n",
    "#df_avg['1999-2016_Avg'] = df_avg.iloc[:,4:].mean(axis=1)\n",
    "#df_avg\n",
    "\n",
    "df_avg = func.withAverageColumn(raw)\n",
    "df_avg"
   ]
  },
  {
   "cell_type": "code",
   "execution_count": null,
   "metadata": {},
   "outputs": [
    {
     "data": {
      "text/html": [
       "<div>\n",
       "<style scoped>\n",
       "    .dataframe tbody tr th:only-of-type {\n",
       "        vertical-align: middle;\n",
       "    }\n",
       "\n",
       "    .dataframe tbody tr th {\n",
       "        vertical-align: top;\n",
       "    }\n",
       "\n",
       "    .dataframe thead th {\n",
       "        text-align: right;\n",
       "    }\n",
       "</style>\n",
       "<table border=\"1\" class=\"dataframe\">\n",
       "  <thead>\n",
       "    <tr style=\"text-align: right;\">\n",
       "      <th></th>\n",
       "      <th>RegionName</th>\n",
       "      <th>RegionID</th>\n",
       "      <th>PopRank</th>\n",
       "      <th>Average_affordability</th>\n",
       "    </tr>\n",
       "  </thead>\n",
       "  <tbody>\n",
       "    <tr>\n",
       "      <th>0</th>\n",
       "      <td>United States</td>\n",
       "      <td>102001.0</td>\n",
       "      <td>0.0</td>\n",
       "      <td>0.208361</td>\n",
       "    </tr>\n",
       "    <tr>\n",
       "      <th>1</th>\n",
       "      <td>New York, NY</td>\n",
       "      <td>394913.0</td>\n",
       "      <td>1.0</td>\n",
       "      <td>0.428749</td>\n",
       "    </tr>\n",
       "    <tr>\n",
       "      <th>2</th>\n",
       "      <td>Los Angeles-Long Beach-Anaheim, CA</td>\n",
       "      <td>753899.0</td>\n",
       "      <td>2.0</td>\n",
       "      <td>0.518046</td>\n",
       "    </tr>\n",
       "    <tr>\n",
       "      <th>3</th>\n",
       "      <td>Chicago, IL</td>\n",
       "      <td>394463.0</td>\n",
       "      <td>3.0</td>\n",
       "      <td>0.227199</td>\n",
       "    </tr>\n",
       "    <tr>\n",
       "      <th>4</th>\n",
       "      <td>Dallas-Fort Worth, TX</td>\n",
       "      <td>394514.0</td>\n",
       "      <td>4.0</td>\n",
       "      <td>0.155297</td>\n",
       "    </tr>\n",
       "  </tbody>\n",
       "</table>\n",
       "</div>"
      ],
      "text/plain": [
       "                           RegionName  RegionID  PopRank  \\\n",
       "0                       United States  102001.0      0.0   \n",
       "1                        New York, NY  394913.0      1.0   \n",
       "2  Los Angeles-Long Beach-Anaheim, CA  753899.0      2.0   \n",
       "3                         Chicago, IL  394463.0      3.0   \n",
       "4               Dallas-Fort Worth, TX  394514.0      4.0   \n",
       "\n",
       "   Average_affordability  \n",
       "0               0.208361  \n",
       "1               0.428749  \n",
       "2               0.518046  \n",
       "3               0.227199  \n",
       "4               0.155297  "
      ]
     },
     "execution_count": null,
     "metadata": {},
     "output_type": "execute_result"
    }
   ],
   "source": [
    "#avg all tiers together\n",
    "untiered = func.load_and_process_untieredaverage(raw)\n",
    "untiered.head()"
   ]
  },
  {
   "cell_type": "code",
   "execution_count": null,
   "metadata": {},
   "outputs": [],
   "source": [
    "#save data\n",
    "#untiered.to_csv('../data/processed/untieredMortgageAffortability')"
   ]
  },
  {
   "cell_type": "code",
   "execution_count": null,
   "metadata": {},
   "outputs": [
    {
     "data": {
      "text/plain": [
       "<Figure size 1000x600 with 0 Axes>"
      ]
     },
     "execution_count": null,
     "metadata": {},
     "output_type": "execute_result"
    },
    {
     "data": {
      "text/plain": [
       "<Figure size 1000x600 with 0 Axes>"
      ]
     },
     "metadata": {},
     "output_type": "display_data"
    }
   ],
   "source": [
    "#style\n",
    "plt.figure(figsize=(10, 6))"
   ]
  },
  {
   "cell_type": "code",
   "execution_count": null,
   "metadata": {},
   "outputs": [
    {
     "data": {
      "text/plain": [
       "([<matplotlib.axis.YTick>,\n",
       "  <matplotlib.axis.YTick>,\n",
       "  <matplotlib.axis.YTick>,\n",
       "  <matplotlib.axis.YTick>,\n",
       "  <matplotlib.axis.YTick>,\n",
       "  <matplotlib.axis.YTick>,\n",
       "  <matplotlib.axis.YTick>,\n",
       "  <matplotlib.axis.YTick>,\n",
       "  <matplotlib.axis.YTick>,\n",
       "  <matplotlib.axis.YTick>,\n",
       "  <matplotlib.axis.YTick>,\n",
       "  <matplotlib.axis.YTick>,\n",
       "  <matplotlib.axis.YTick>,\n",
       "  <matplotlib.axis.YTick>,\n",
       "  <matplotlib.axis.YTick>,\n",
       "  <matplotlib.axis.YTick>,\n",
       "  <matplotlib.axis.YTick>,\n",
       "  <matplotlib.axis.YTick>,\n",
       "  <matplotlib.axis.YTick>,\n",
       "  <matplotlib.axis.YTick>,\n",
       "  <matplotlib.axis.YTick>,\n",
       "  <matplotlib.axis.YTick>,\n",
       "  <matplotlib.axis.YTick>,\n",
       "  <matplotlib.axis.YTick>,\n",
       "  <matplotlib.axis.YTick>],\n",
       " [Text(0, 0, '0.0'),\n",
       "  Text(0, 2, '2.0'),\n",
       "  Text(0, 4, '4.0'),\n",
       "  Text(0, 6, '6.0'),\n",
       "  Text(0, 8, '8.0'),\n",
       "  Text(0, 10, '10.0'),\n",
       "  Text(0, 12, '12.0'),\n",
       "  Text(0, 14, '14.0'),\n",
       "  Text(0, 16, '16.0'),\n",
       "  Text(0, 18, '18.0'),\n",
       "  Text(0, 20, '20.0'),\n",
       "  Text(0, 22, '22.0'),\n",
       "  Text(0, 24, '24.0'),\n",
       "  Text(0, 26, '26.0'),\n",
       "  Text(0, 28, '28.0'),\n",
       "  Text(0, 30, '30.0'),\n",
       "  Text(0, 32, '33.0'),\n",
       "  Text(0, 34, '35.0'),\n",
       "  Text(0, 36, '37.0'),\n",
       "  Text(0, 38, '39.0'),\n",
       "  Text(0, 40, '41.0'),\n",
       "  Text(0, 42, '43.0'),\n",
       "  Text(0, 44, '45.0'),\n",
       "  Text(0, 46, '47.0'),\n",
       "  Text(0, 48, '49.0')])"
      ]
     },
     "execution_count": null,
     "metadata": {},
     "output_type": "execute_result"
    },
    {
     "data": {
      "image/png": "[encoded data removed]",
      "text/plain": [
       "<Figure size 640x480 with 1 Axes>"
      ]
     },
     "metadata": {},
     "output_type": "display_data"
    }
   ],
   "source": [
    "#lets visualize the relationship of population rank and affordability\n",
    "bar = sns.barplot(data = untiered, x='Average_affordability', y='PopRank', orient='h' )\n",
    "bar.set(title='Population vs. Mortgage Affordability', xlabel= 'Affordability(Average Mortgage to Income Ratio)', ylabel='Population (decreasing top to bottom)')\n",
    "yticks = range(0, len(untiered['PopRank']), 2)\n",
    "plt.yticks(yticks, untiered['PopRank'].iloc[yticks])"
   ]
  },
  {
   "cell_type": "code",
   "execution_count": null,
   "metadata": {},
   "outputs": [
    {
     "data": {
      "text/plain": [
       "[Text(0.5, 1.0, 'Population vs. Mortgage Affordability'),\n",
       " Text(0.5, 0, 'Affordability(Average Mortgage to Income Ratio)'),\n",
       " Text(0, 0.5, 'Population Rank')]"
      ]
     },
     "execution_count": null,
     "metadata": {},
     "output_type": "execute_result"
    },
    {
     "data": {
      "image/png": "[encoded data removed]",
      "text/plain": [
       "<Figure size 640x480 with 1 Axes>"
      ]
     },
     "metadata": {},
     "output_type": "display_data"
    }
   ],
   "source": [
    "scat = sns.scatterplot(data=untiered, x='Average_affordability', y='PopRank')\n",
    "scat.set(title='Population vs. Mortgage Affordability', xlabel= 'Affordability(Average Mortgage to Income Ratio)', ylabel='Population Rank')"
   ]
  },
  {
   "cell_type": "code",
   "execution_count": null,
   "metadata": {},
   "outputs": [
    {
     "data": {
      "text/plain": [
       "[Text(0.5, 1.0, 'Population vs. Mortgage Affordability'),\n",
       " Text(0.5, 0, 'Affordability(Average Mortgage to Income Ratio)'),\n",
       " Text(0, 0.5, 'Population Rank')]"
      ]
     },
     "execution_count": null,
     "metadata": {},
     "output_type": "execute_result"
    },
    {
     "data": {
      "image/png": "[encoded data removed]",
      "text/plain": [
       "<Figure size 640x480 with 1 Axes>"
      ]
     },
     "metadata": {},
     "output_type": "display_data"
    }
   ],
   "source": [
    "scat = sns.scatterplot(df_avg, x='Average_affordability', y='PopRank', hue='tier')\n",
    "scat.set(title='Population vs. Mortgage Affordability', xlabel= 'Affordability(Average Mortgage to Income Ratio)', ylabel='Population Rank')"
   ]
  },
  {
   "cell_type": "code",
   "execution_count": null,
   "metadata": {},
   "outputs": [
    {
     "data": {
      "text/html": [
       "<div>\n",
       "<style scoped>\n",
       "    .dataframe tbody tr th:only-of-type {\n",
       "        vertical-align: middle;\n",
       "    }\n",
       "\n",
       "    .dataframe tbody tr th {\n",
       "        vertical-align: top;\n",
       "    }\n",
       "\n",
       "    .dataframe thead th {\n",
       "        text-align: right;\n",
       "    }\n",
       "</style>\n",
       "<table border=\"1\" class=\"dataframe\">\n",
       "  <thead>\n",
       "    <tr style=\"text-align: right;\">\n",
       "      <th></th>\n",
       "      <th>RegionName</th>\n",
       "      <th>PopRank</th>\n",
       "      <th>Average_affordability</th>\n",
       "    </tr>\n",
       "  </thead>\n",
       "  <tbody>\n",
       "    <tr>\n",
       "      <th>0</th>\n",
       "      <td>AL</td>\n",
       "      <td>48.000000</td>\n",
       "      <td>0.158392</td>\n",
       "    </tr>\n",
       "    <tr>\n",
       "      <th>1</th>\n",
       "      <td>AZ</td>\n",
       "      <td>14.000000</td>\n",
       "      <td>0.228893</td>\n",
       "    </tr>\n",
       "    <tr>\n",
       "      <th>2</th>\n",
       "      <td>CA</td>\n",
       "      <td>16.833333</td>\n",
       "      <td>0.435835</td>\n",
       "    </tr>\n",
       "    <tr>\n",
       "      <th>3</th>\n",
       "      <td>CO</td>\n",
       "      <td>21.000000</td>\n",
       "      <td>0.251986</td>\n",
       "    </tr>\n",
       "    <tr>\n",
       "      <th>4</th>\n",
       "      <td>CT</td>\n",
       "      <td>43.000000</td>\n",
       "      <td>0.227248</td>\n",
       "    </tr>\n",
       "  </tbody>\n",
       "</table>\n",
       "</div>"
      ],
      "text/plain": [
       "  RegionName    PopRank  Average_affordability\n",
       "0         AL  48.000000               0.158392\n",
       "1         AZ  14.000000               0.228893\n",
       "2         CA  16.833333               0.435835\n",
       "3         CO  21.000000               0.251986\n",
       "4         CT  43.000000               0.227248"
      ]
     },
     "execution_count": null,
     "metadata": {},
     "output_type": "execute_result"
    }
   ],
   "source": [
    "byStates = func.tostates(untiered)\n",
    "byStates.head()"
   ]
  },
  {
   "cell_type": "code",
   "execution_count": null,
   "metadata": {},
   "outputs": [],
   "source": [
    "#Save Data\n",
    "#df.to_csv('../data/processed/MortgageAffordabilitybyState')"
   ]
  },
  {
   "cell_type": "code",
   "execution_count": null,
   "metadata": {},
   "outputs": [
    {
     "data": {
      "application/vnd.plotly.v1+json": {
       "config": {
        "plotlyServerURL": "https://plot.ly"
       },
       "data": [
        {
         "coloraxis": "coloraxis",
         "geo": "geo",
         "hovertemplate": "RegionName=%{location}<br>Average_affordability=%{z}<extra></extra>",
         "locationmode": "USA-states",
         "locations": [
          "AL",
          "AZ",
          "CA",
          "CO",
          "CT",
          "DC",
          "FL",
          "GA",
          "IL",
          "KY",
          "LA",
          "MA",
          "MD",
          "MI",
          "MN",
          "MO",
          "NC",
          "NV",
          "NY",
          "OH",
          "OK",
          "OR",
          "PA",
          "RI",
          "TN",
          "TX",
          "UT",
          "United States",
          "VA",
          "WA",
          "WI"
         ],
         "name": "",
         "type": "choropleth",
         "z": [
          0.15839234140689765,
          0.22889314005822503,
          0.43583499629782524,
          0.2519856124073102,
          0.22724784990060548,
          0.23766333366129894,
          0.2100857524352034,
          0.1729053333815502,
          0.22719947842882715,
          0.16712591888151182,
          0.21591294563754795,
          0.3406868700557833,
          0.21176515003557275,
          0.1501419229724453,
          0.21238928750339348,
          0.16028459624196972,
          0.18473468302823404,
          0.23076652002427114,
          0.24381504207429935,
          0.1711361146143426,
          0.13790404603227008,
          0.28174927195384764,
          0.16684465954528904,
          0.32176062621280466,
          0.1722805982171285,
          0.14845292748743,
          0.23234817017100082,
          0.20836146848046422,
          0.20756441632303757,
          0.3039347435188523,
          0.21589808767919796
         ]
        }
       ],
       "layout": {
        "coloraxis": {
         "colorbar": {
          "title": {
           "text": "Average_affordability"
          }
         },
         "colorscale": [
          [
           0,
           "#fde725"
          ],
          [
           0.1111111111111111,
           "#b5de2b"
          ],
          [
           0.2222222222222222,
           "#6ece58"
          ],
          [
           0.3333333333333333,
           "#35b779"
          ],
          [
           0.4444444444444444,
           "#1f9e89"
          ],
          [
           0.5555555555555556,
           "#26828e"
          ],
          [
           0.6666666666666666,
           "#31688e"
          ],
          [
           0.7777777777777778,
           "#3e4989"
          ],
          [
           0.8888888888888888,
           "#482878"
          ],
          [
           1,
           "#440154"
          ]
         ]
        },
        "geo": {
         "center": {},
         "domain": {
          "x": [
           0,
           1
          ],
          "y": [
           0,
           1
          ]
         },
         "scope": "usa"
        },
        "legend": {
         "tracegroupgap": 0
        },
        "margin": {
         "t": 60
        },
        "template": {
         "data": {
          "bar": [
           {
            "error_x": {
             "color": "#2a3f5f"
            },
            "error_y": {
             "color": "#2a3f5f"
            },
            "marker": {
             "line": {
              "color": "#E5ECF6",
              "width": 0.5
             },
             "pattern": {
              "fillmode": "overlay",
              "size": 10,
              "solidity": 0.2
             }
            },
            "type": "bar"
           }
          ],
          "barpolar": [
           {
            "marker": {
             "line": {
              "color": "#E5ECF6",
              "width": 0.5
             },
             "pattern": {
              "fillmode": "overlay",
              "size": 10,
              "solidity": 0.2
             }
            },
            "type": "barpolar"
           }
          ],
          "carpet": [
           {
            "aaxis": {
             "endlinecolor": "#2a3f5f",
             "gridcolor": "white",
             "linecolor": "white",
             "minorgridcolor": "white",
             "startlinecolor": "#2a3f5f"
            },
            "baxis": {
             "endlinecolor": "#2a3f5f",
             "gridcolor": "white",
             "linecolor": "white",
             "minorgridcolor": "white",
             "startlinecolor": "#2a3f5f"
            },
            "type": "carpet"
           }
          ],
          "choropleth": [
           {
            "colorbar": {
             "outlinewidth": 0,
             "ticks": ""
            },
            "type": "choropleth"
           }
          ],
          "contour": [
           {
            "colorbar": {
             "outlinewidth": 0,
             "ticks": ""
            },
            "colorscale": [
             [
              0,
              "#0d0887"
             ],
             [
              0.1111111111111111,
              "#46039f"
             ],
             [
              0.2222222222222222,
              "#7201a8"
             ],
             [
              0.3333333333333333,
              "#9c179e"
             ],
             [
              0.4444444444444444,
              "#bd3786"
             ],
             [
              0.5555555555555556,
              "#d8576b"
             ],
             [
              0.6666666666666666,
              "#ed7953"
             ],
             [
              0.7777777777777778,
              "#fb9f3a"
             ],
             [
              0.8888888888888888,
              "#fdca26"
             ],
             [
              1,
              "#f0f921"
             ]
            ],
            "type": "contour"
           }
          ],
          "contourcarpet": [
           {
            "colorbar": {
             "outlinewidth": 0,
             "ticks": ""
            },
            "type": "contourcarpet"
           }
          ],
          "heatmap": [
           {
            "colorbar": {
             "outlinewidth": 0,
             "ticks": ""
            },
            "colorscale": [
             [
              0,
              "#0d0887"
             ],
             [
              0.1111111111111111,
              "#46039f"
             ],
             [
              0.2222222222222222,
              "#7201a8"
             ],
             [
              0.3333333333333333,
              "#9c179e"
             ],
             [
              0.4444444444444444,
              "#bd3786"
             ],
             [
              0.5555555555555556,
              "#d8576b"
             ],
             [
              0.6666666666666666,
              "#ed7953"
             ],
             [
              0.7777777777777778,
              "#fb9f3a"
             ],
             [
              0.8888888888888888,
              "#fdca26"
             ],
             [
              1,
              "#f0f921"
             ]
            ],
            "type": "heatmap"
           }
          ],
          "heatmapgl": [
           {
            "colorbar": {
             "outlinewidth": 0,
             "ticks": ""
            },
            "colorscale": [
             [
              0,
              "#0d0887"
             ],
             [
              0.1111111111111111,
              "#46039f"
             ],
             [
              0.2222222222222222,
              "#7201a8"
             ],
             [
              0.3333333333333333,
              "#9c179e"
             ],
             [
              0.4444444444444444,
              "#bd3786"
             ],
             [
              0.5555555555555556,
              "#d8576b"
             ],
             [
              0.6666666666666666,
              "#ed7953"
             ],
             [
              0.7777777777777778,
              "#fb9f3a"
             ],
             [
              0.8888888888888888,
              "#fdca26"
             ],
             [
              1,
              "#f0f921"
             ]
            ],
            "type": "heatmapgl"
           }
          ],
          "histogram": [
           {
            "marker": {
             "pattern": {
              "fillmode": "overlay",
              "size": 10,
              "solidity": 0.2
             }
            },
            "type": "histogram"
           }
          ],
          "histogram2d": [
           {
            "colorbar": {
             "outlinewidth": 0,
             "ticks": ""
            },
            "colorscale": [
             [
              0,
              "#0d0887"
             ],
             [
              0.1111111111111111,
              "#46039f"
             ],
             [
              0.2222222222222222,
              "#7201a8"
             ],
             [
              0.3333333333333333,
              "#9c179e"
             ],
             [
              0.4444444444444444,
              "#bd3786"
             ],
             [
              0.5555555555555556,
              "#d8576b"
             ],
             [
              0.6666666666666666,
              "#ed7953"
             ],
             [
              0.7777777777777778,
              "#fb9f3a"
             ],
             [
              0.8888888888888888,
              "#fdca26"
             ],
             [
              1,
              "#f0f921"
             ]
            ],
            "type": "histogram2d"
           }
          ],
          "histogram2dcontour": [
           {
            "colorbar": {
             "outlinewidth": 0,
             "ticks": ""
            },
            "colorscale": [
             [
              0,
              "#0d0887"
             ],
             [
              0.1111111111111111,
              "#46039f"
             ],
             [
              0.2222222222222222,
              "#7201a8"
             ],
             [
              0.3333333333333333,
              "#9c179e"
             ],
             [
              0.4444444444444444,
              "#bd3786"
             ],
             [
              0.5555555555555556,
              "#d8576b"
             ],
             [
              0.6666666666666666,
              "#ed7953"
             ],
             [
              0.7777777777777778,
              "#fb9f3a"
             ],
             [
              0.8888888888888888,
              "#fdca26"
             ],
             [
              1,
              "#f0f921"
             ]
            ],
            "type": "histogram2dcontour"
           }
          ],
          "mesh3d": [
           {
            "colorbar": {
             "outlinewidth": 0,
             "ticks": ""
            },
            "type": "mesh3d"
           }
          ],
          "parcoords": [
           {
            "line": {
             "colorbar": {
              "outlinewidth": 0,
              "ticks": ""
             }
            },
            "type": "parcoords"
           }
          ],
          "pie": [
           {
            "automargin": true,
            "type": "pie"
           }
          ],
          "scatter": [
           {
            "fillpattern": {
             "fillmode": "overlay",
             "size": 10,
             "solidity": 0.2
            },
            "type": "scatter"
           }
          ],
          "scatter3d": [
           {
            "line": {
             "colorbar": {
              "outlinewidth": 0,
              "ticks": ""
             }
            },
            "marker": {
             "colorbar": {
              "outlinewidth": 0,
              "ticks": ""
             }
            },
            "type": "scatter3d"
           }
          ],
          "scattercarpet": [
           {
            "marker": {
             "colorbar": {
              "outlinewidth": 0,
              "ticks": ""
             }
            },
            "type": "scattercarpet"
           }
          ],
          "scattergeo": [
           {
            "marker": {
             "colorbar": {
              "outlinewidth": 0,
              "ticks": ""
             }
            },
            "type": "scattergeo"
           }
          ],
          "scattergl": [
           {
            "marker": {
             "colorbar": {
              "outlinewidth": 0,
              "ticks": ""
             }
            },
            "type": "scattergl"
           }
          ],
          "scattermapbox": [
           {
            "marker": {
             "colorbar": {
              "outlinewidth": 0,
              "ticks": ""
             }
            },
            "type": "scattermapbox"
           }
          ],
          "scatterpolar": [
           {
            "marker": {
             "colorbar": {
              "outlinewidth": 0,
              "ticks": ""
             }
            },
            "type": "scatterpolar"
           }
          ],
          "scatterpolargl": [
           {
            "marker": {
             "colorbar": {
              "outlinewidth": 0,
              "ticks": ""
             }
            },
            "type": "scatterpolargl"
           }
          ],
          "scatterternary": [
           {
            "marker": {
             "colorbar": {
              "outlinewidth": 0,
              "ticks": ""
             }
            },
            "type": "scatterternary"
           }
          ],
          "surface": [
           {
            "colorbar": {
             "outlinewidth": 0,
             "ticks": ""
            },
            "colorscale": [
             [
              0,
              "#0d0887"
             ],
             [
              0.1111111111111111,
              "#46039f"
             ],
             [
              0.2222222222222222,
              "#7201a8"
             ],
             [
              0.3333333333333333,
              "#9c179e"
             ],
             [
              0.4444444444444444,
              "#bd3786"
             ],
             [
              0.5555555555555556,
              "#d8576b"
             ],
             [
              0.6666666666666666,
              "#ed7953"
             ],
             [
              0.7777777777777778,
              "#fb9f3a"
             ],
             [
              0.8888888888888888,
              "#fdca26"
             ],
             [
              1,
              "#f0f921"
             ]
            ],
            "type": "surface"
           }
          ],
          "table": [
           {
            "cells": {
             "fill": {
              "color": "#EBF0F8"
             },
             "line": {
              "color": "white"
             }
            },
            "header": {
             "fill": {
              "color": "#C8D4E3"
             },
             "line": {
              "color": "white"
             }
            },
            "type": "table"
           }
          ]
         },
         "layout": {
          "annotationdefaults": {
           "arrowcolor": "#2a3f5f",
           "arrowhead": 0,
           "arrowwidth": 1
          },
          "autotypenumbers": "strict",
          "coloraxis": {
           "colorbar": {
            "outlinewidth": 0,
            "ticks": ""
           }
          },
          "colorscale": {
           "diverging": [
            [
             0,
             "#8e0152"
            ],
            [
             0.1,
             "#c51b7d"
            ],
            [
             0.2,
             "#de77ae"
            ],
            [
             0.3,
             "#f1b6da"
            ],
            [
             0.4,
             "#fde0ef"
            ],
            [
             0.5,
             "#f7f7f7"
            ],
            [
             0.6,
             "#e6f5d0"
            ],
            [
             0.7,
             "#b8e186"
            ],
            [
             0.8,
             "#7fbc41"
            ],
            [
             0.9,
             "#4d9221"
            ],
            [
             1,
             "#276419"
            ]
           ],
           "sequential": [
            [
             0,
             "#0d0887"
            ],
            [
             0.1111111111111111,
             "#46039f"
            ],
            [
             0.2222222222222222,
             "#7201a8"
            ],
            [
             0.3333333333333333,
             "#9c179e"
            ],
            [
             0.4444444444444444,
             "#bd3786"
            ],
            [
             0.5555555555555556,
             "#d8576b"
            ],
            [
             0.6666666666666666,
             "#ed7953"
            ],
            [
             0.7777777777777778,
             "#fb9f3a"
            ],
            [
             0.8888888888888888,
             "#fdca26"
            ],
            [
             1,
             "#f0f921"
            ]
           ],
           "sequentialminus": [
            [
             0,
             "#0d0887"
            ],
            [
             0.1111111111111111,
             "#46039f"
            ],
            [
             0.2222222222222222,
             "#7201a8"
            ],
            [
             0.3333333333333333,
             "#9c179e"
            ],
            [
             0.4444444444444444,
             "#bd3786"
            ],
            [
             0.5555555555555556,
             "#d8576b"
            ],
            [
             0.6666666666666666,
             "#ed7953"
            ],
            [
             0.7777777777777778,
             "#fb9f3a"
            ],
            [
             0.8888888888888888,
             "#fdca26"
            ],
            [
             1,
             "#f0f921"
            ]
           ]
          },
          "colorway": [
           "#636efa",
           "#EF553B",
           "#00cc96",
           "#ab63fa",
           "#FFA15A",
           "#19d3f3",
           "#FF6692",
           "#B6E880",
           "#FF97FF",
           "#FECB52"
          ],
          "font": {
           "color": "#2a3f5f"
          },
          "geo": {
           "bgcolor": "white",
           "lakecolor": "white",
           "landcolor": "#E5ECF6",
           "showlakes": true,
           "showland": true,
           "subunitcolor": "white"
          },
          "hoverlabel": {
           "align": "left"
          },
          "hovermode": "closest",
          "mapbox": {
           "style": "light"
          },
          "paper_bgcolor": "white",
          "plot_bgcolor": "#E5ECF6",
          "polar": {
           "angularaxis": {
            "gridcolor": "white",
            "linecolor": "white",
            "ticks": ""
           },
           "bgcolor": "#E5ECF6",
           "radialaxis": {
            "gridcolor": "white",
            "linecolor": "white",
            "ticks": ""
           }
          },
          "scene": {
           "xaxis": {
            "backgroundcolor": "#E5ECF6",
            "gridcolor": "white",
            "gridwidth": 2,
            "linecolor": "white",
            "showbackground": true,
            "ticks": "",
            "zerolinecolor": "white"
           },
           "yaxis": {
            "backgroundcolor": "#E5ECF6",
            "gridcolor": "white",
            "gridwidth": 2,
            "linecolor": "white",
            "showbackground": true,
            "ticks": "",
            "zerolinecolor": "white"
           },
           "zaxis": {
            "backgroundcolor": "#E5ECF6",
            "gridcolor": "white",
            "gridwidth": 2,
            "linecolor": "white",
            "showbackground": true,
            "ticks": "",
            "zerolinecolor": "white"
           }
          },
          "shapedefaults": {
           "line": {
            "color": "#2a3f5f"
           }
          },
          "ternary": {
           "aaxis": {
            "gridcolor": "white",
            "linecolor": "white",
            "ticks": ""
           },
           "baxis": {
            "gridcolor": "white",
            "linecolor": "white",
            "ticks": ""
           },
           "bgcolor": "#E5ECF6",
           "caxis": {
            "gridcolor": "white",
            "linecolor": "white",
            "ticks": ""
           }
          },
          "title": {
           "x": 0.05
          },
          "xaxis": {
           "automargin": true,
           "gridcolor": "white",
           "linecolor": "white",
           "ticks": "",
           "title": {
            "standoff": 15
           },
           "zerolinecolor": "white",
           "zerolinewidth": 2
          },
          "yaxis": {
           "automargin": true,
           "gridcolor": "white",
           "linecolor": "white",
           "ticks": "",
           "title": {
            "standoff": 15
           },
           "zerolinecolor": "white",
           "zerolinewidth": 2
          }
         }
        }
       }
      }
     },
     "metadata": {},
     "output_type": "display_data"
    }
   ],
   "source": [
    "import plotly.express as px\n",
    "#plot average affortabilities accross the U.S. on map\n",
    "fig = px.choropleth(byStates,\n",
    "                    locations='RegionName', \n",
    "                    locationmode=\"USA-states\", \n",
    "                    scope=\"usa\",\n",
    "                    color='Average_affordability',\n",
    "                    color_continuous_scale=\"Viridis_r\", \n",
    "                    )\n",
    "\n",
    "fig.show()"
   ]
  },
  {
   "cell_type": "code",
   "execution_count": null,
   "metadata": {},
   "outputs": [
    {
     "data": {
      "text/plain": [
       "[Text(0.5, 1.0, 'Population vs. Mortgage Affordability'),\n",
       " Text(0.5, 0, 'Affordability(Average Mortgage to Income Ratio)'),\n",
       " Text(0, 0.5, 'Population (decreasing top to bottom)')]"
      ]
     },
     "execution_count": null,
     "metadata": {},
     "output_type": "execute_result"
    },
    {
     "data": {
      "image/png": "[encoded data removed]",
      "text/plain": [
       "<Figure size 640x480 with 1 Axes>"
      ]
     },
     "metadata": {},
     "output_type": "display_data"
    }
   ],
   "source": [
    "df = byStates.sort_values('PopRank')\n",
    "bar = sns.barplot(data=byStates, x='Average_affordability', y='RegionName', orient='h')\n",
    "bar.set(title='Population vs. Mortgage Affordability', xlabel= 'Affordability(Average Mortgage to Income Ratio)', ylabel='Population (decreasing top to bottom)')"
   ]
  },
  {
   "attachments": {},
   "cell_type": "markdown",
   "metadata": {},
   "source": [
    "#### Realization \n",
    "\n",
    "we can't order by population rank of states as the data does not account for all regions in a state. would have to take max rank of each state instead of average"
   ]
  },
  {
   "cell_type": "code",
   "execution_count": null,
   "metadata": {},
   "outputs": [
    {
     "data": {
      "text/html": [
       "<div>\n",
       "<style scoped>\n",
       "    .dataframe tbody tr th:only-of-type {\n",
       "        vertical-align: middle;\n",
       "    }\n",
       "\n",
       "    .dataframe tbody tr th {\n",
       "        vertical-align: top;\n",
       "    }\n",
       "\n",
       "    .dataframe thead th {\n",
       "        text-align: right;\n",
       "    }\n",
       "</style>\n",
       "<table border=\"1\" class=\"dataframe\">\n",
       "  <thead>\n",
       "    <tr style=\"text-align: right;\">\n",
       "      <th></th>\n",
       "      <th>tier</th>\n",
       "      <th>Affordability</th>\n",
       "      <th>Date</th>\n",
       "    </tr>\n",
       "  </thead>\n",
       "  <tbody>\n",
       "    <tr>\n",
       "      <th>0</th>\n",
       "      <td>Bottom Tier</td>\n",
       "      <td>0.300007</td>\n",
       "      <td>1999-06-30</td>\n",
       "    </tr>\n",
       "    <tr>\n",
       "      <th>1</th>\n",
       "      <td>Middle Tier</td>\n",
       "      <td>0.183958</td>\n",
       "      <td>1999-06-30</td>\n",
       "    </tr>\n",
       "    <tr>\n",
       "      <th>2</th>\n",
       "      <td>Upper Tier</td>\n",
       "      <td>0.147950</td>\n",
       "      <td>1999-06-30</td>\n",
       "    </tr>\n",
       "    <tr>\n",
       "      <th>3</th>\n",
       "      <td>Bottom Tier</td>\n",
       "      <td>0.315030</td>\n",
       "      <td>1999-09-30</td>\n",
       "    </tr>\n",
       "    <tr>\n",
       "      <th>4</th>\n",
       "      <td>Middle Tier</td>\n",
       "      <td>0.191210</td>\n",
       "      <td>1999-09-30</td>\n",
       "    </tr>\n",
       "    <tr>\n",
       "      <th>5</th>\n",
       "      <td>Upper Tier</td>\n",
       "      <td>0.155872</td>\n",
       "      <td>1999-09-30</td>\n",
       "    </tr>\n",
       "    <tr>\n",
       "      <th>6</th>\n",
       "      <td>Bottom Tier</td>\n",
       "      <td>0.316834</td>\n",
       "      <td>1999-12-31</td>\n",
       "    </tr>\n",
       "    <tr>\n",
       "      <th>7</th>\n",
       "      <td>Middle Tier</td>\n",
       "      <td>0.196901</td>\n",
       "      <td>1999-12-31</td>\n",
       "    </tr>\n",
       "    <tr>\n",
       "      <th>8</th>\n",
       "      <td>Upper Tier</td>\n",
       "      <td>0.157198</td>\n",
       "      <td>1999-12-31</td>\n",
       "    </tr>\n",
       "    <tr>\n",
       "      <th>9</th>\n",
       "      <td>Bottom Tier</td>\n",
       "      <td>0.334600</td>\n",
       "      <td>2000-03-31</td>\n",
       "    </tr>\n",
       "  </tbody>\n",
       "</table>\n",
       "</div>"
      ],
      "text/plain": [
       "          tier  Affordability       Date\n",
       "0  Bottom Tier       0.300007 1999-06-30\n",
       "1  Middle Tier       0.183958 1999-06-30\n",
       "2   Upper Tier       0.147950 1999-06-30\n",
       "3  Bottom Tier       0.315030 1999-09-30\n",
       "4  Middle Tier       0.191210 1999-09-30\n",
       "5   Upper Tier       0.155872 1999-09-30\n",
       "6  Bottom Tier       0.316834 1999-12-31\n",
       "7  Middle Tier       0.196901 1999-12-31\n",
       "8   Upper Tier       0.157198 1999-12-31\n",
       "9  Bottom Tier       0.334600 2000-03-31"
      ]
     },
     "execution_count": null,
     "metadata": {},
     "output_type": "execute_result"
    }
   ],
   "source": [
    "\n",
    "datedTiers = func.load_and_process_meltdates(raw)\n",
    "datedTiers.head(10)"
   ]
  },
  {
   "cell_type": "code",
   "execution_count": null,
   "metadata": {},
   "outputs": [
    {
     "data": {
      "text/plain": [
       "[Text(0.5, 1.0, 'Mortgage Affordabilty in the U.S.'),\n",
       " Text(0.5, 0, 'Date'),\n",
       " Text(0, 0.5, 'Average Mortgage Price to Income Ratio')]"
      ]
     },
     "execution_count": null,
     "metadata": {},
     "output_type": "execute_result"
    },
    {
     "data": {
      "image/png": "[encoded data removed]",
      "text/plain": [
       "<Figure size 640x480 with 1 Axes>"
      ]
     },
     "metadata": {},
     "output_type": "display_data"
    }
   ],
   "source": [
    "tier_rel = sns.lineplot(data=datedTiers, x='Date', y='Affordability', hue='tier')\n",
    "tier_rel.set(title='Mortgage Affordabilty in the U.S.', xlabel='Date', ylabel='Average Mortgage Price to Income Ratio')"
   ]
  },
  {
   "attachments": {},
   "cell_type": "markdown",
   "metadata": {},
   "source": [
    "try taking difference of tiers for y axis and plotting"
   ]
  },
  {
   "attachments": {},
   "cell_type": "markdown",
   "metadata": {},
   "source": [
    "## Research question/interests (Refined)\n",
    "\n",
    "**Is there a relationship between mortgage affordability and metroplolitan area population? is a region with a larger population more likely to be less affordable**\n",
    "\n",
    "**How does mortgage afforability change with time for differnt tiers? Do all tiers follow the same trend or do they have their own? If they do, (as one tier goes up/down so does the other) is it a constant relationship (change at same rate) or not (e.i. as one increases/decreases does the other increase/decrease more/less rapidly**\n",
    "\n",
    "\n",
    "\n",
    "\n",
    " "
   ]
  }
 ],
 "metadata": {
  "kernelspec": {
   "display_name": "Python 3 (ipykernel)",
   "language": "python",
   "name": "python3"
  }
 },
 "nbformat": 4,
 "nbformat_minor": 4
}

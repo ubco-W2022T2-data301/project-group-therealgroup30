{
 "cells": [
  {
   "cell_type": "markdown",
   "metadata": {},
   "source": [
    "# Angelina Dubrule"
   ]
  },
  {
   "cell_type": "markdown",
   "metadata": {},
   "source": [
    "## Research question/interests\n",
    "\n",
    "**Does the population of the city that the property is located in have any affect on the affordablilty of a mortgage? If so, is this affect positive or negative?**\n",
    "\n",
    "We can answer this question by averaging the affordability over the 17 year time span (1999-2016) for each row in the graph. Then we could compare this to the population ranking by removing all other columns. We can then combine the repeated data from the same city multiple times by averaging the repeated terms. Once there are only two columns, average affordability and rank, we can order the data by population rank and then plot the data in a graph to see if there are any trends.\n",
    "\n",
    "**Which city in our dataset has the most affordable mortgage? Which city has the least?**\n",
    "\n",
    "We can answer this question by averaging the affordability over the 17 year time span (1999-2016) for each row in the graph. Then we could compare this to each RegionName by removing all other columns. We can then combine the repeated data from the same city multiple times by averaging the repeated terms. Once there are only two columns, average affordability and Region Name, we can order the terms by lowest to hishest affordability. The first Region Name term will be the most affordable, and the last will be the least.\n",
    "\n",
    "**Has the affordability of a mortgage changed over the 17 year period that the data was collected? If so, did affordability increase or decrease?**\n",
    "\n",
    "We can answer this question by removing all data columns from the table except for the affordability calculation columns. Find the average for each quarter by finding the average for each column using all rows. There should now be only two rows, the date of data collecton and the average affordability. We can then plot a graph showing the average affordability over time, and see if there are any trends."
   ]
  },
  {
   "cell_type": "code",
   "execution_count": null,
   "metadata": {},
   "outputs": [],
   "source": [
    "import numpy as np\n",
    "import pandas as pd\n",
    "import matplotlib\n",
    "import matplotlib.pyplot as plt\n",
    "import seaborn as sns\n",
    "%matplotlib inline"
   ]
  },
  {
   "cell_type": "code",
   "execution_count": null,
   "metadata": {},
   "outputs": [],
   "source": [
    "df = pd.read_csv(\"../data/raw/TieredAffordability_Mortgage.csv\")\n",
    "\n",
    "#Preliminary Data Processing\n",
    "df.info()\n",
    "df.head()\n",
    "# set identifier \"RegionID\" as string\n",
    "df['RegionID'] = df['RegionID'].astype('str')\n",
    "# set categorical data\n",
    "df['tier'] = df['tier'].astype('category')\n",
    "df['RegionName'] = df['RegionName'].astype('category')"
   ]
  },
  {
   "cell_type": "code",
   "execution_count": null,
   "metadata": {},
   "outputs": [],
   "source": [
    "# generate preview of entries with null values\n",
    "if df.isnull().any(axis=None):\n",
    "    print(\"\\nPreview of data with null values:\\nxxxxxxxxxxxxx\")\n",
    "    print(df[df.isnull().any(axis=1)].head(3))\n",
    "    plt.show()"
   ]
  },
  {
   "cell_type": "code",
   "execution_count": null,
   "metadata": {},
   "outputs": [],
   "source": [
    "# generate count statistics of duplicate entries\n",
    "if len(df[df.duplicated()]) > 0:\n",
    "    print(\"No. of duplicated entries: \", len(df[df.duplicated()]))\n",
    "    print(df[df.duplicated(keep=False)].sort_values(by=list(df.columns)).head())\n",
    "else:\n",
    "    print(\"No duplicated entries found\")"
   ]
  },
  {
   "cell_type": "code",
   "execution_count": null,
   "metadata": {},
   "outputs": [],
   "source": [
    "#Exploratory Data Analysis Part 1\n",
    "df1 = df\n",
    "df1['Affordability(1999-2016)'] = (df['1999-06-30'] + df['1999-09-30'] + df['1999-12-31'] + df['2000-03-31'] + df['2000-06-30'] + df['2000-09-30'] + df['2000-12-31'] + df['2001-03-31'] + df['2001-06-30'] + df['2001-09-30'] + df['2001-12-31'] + df['2002-03-31'] + df['2002-06-30'] + df['2002-09-30'] + df['2002-12-31'] + df['2003-03-31'] + df['2003-06-30'] + df['2003-09-30'] + df['2003-12-31'] + df['2004-03-31'] + df['2004-06-30'] + df['2004-09-30'] + df['2004-12-31'] + df['2005-03-31'] + df['2005-06-30'] + df['2005-09-30'] + df['2005-12-31'] + df['2006-03-31'] + df['2006-06-30'] + df['2006-09-30'] + df['2006-12-31'] + df['2007-03-31'] + df['2007-06-30'] + df['2007-09-30'] + df['2007-12-31'] + df['2008-03-31'] + df['2008-06-30'] + df['2008-09-30'] + df['2008-12-31'] + df['2009-03-31'] + df['2009-06-30'] + df['2009-09-30'] + df['2009-12-31'] + df['2010-03-31'] + df['2010-06-30'] + df['2010-09-30'] + df['2010-12-31'] + df['2011-03-31'] + df['2011-06-30'] + df['2011-09-30'] + df['2011-12-31'] + df['2012-03-31'] + df['2012-06-30'] + df['2012-09-30'] + df['2012-12-31'] + df['2013-03-31'] + df['2013-06-30'] + df['2013-09-30'] + df['2013-12-31'] + df['2014-03-31'] + df['2014-06-30'] + df['2014-09-30'] + df['2014-12-31'] + df['2015-03-31'] + df['2015-06-30'] + df['2015-09-30'] + df['2015-12-31'] + df['2016-03-31'] + df['2016-06-30']) / 69\n",
    "df1 = df1.drop(['1999-06-30','1999-09-30','1999-12-31','2000-03-31','2000-06-30','2000-09-30','2000-12-31','2001-03-31','2001-06-30','2001-09-30','2001-12-31','2002-03-31','2002-06-30','2002-09-30','2002-12-31','2003-03-31','2003-06-30','2003-09-30','2003-12-31','2004-03-31','2004-06-30','2004-09-30','2004-12-31','2005-03-31','2005-06-30','2005-09-30','2005-12-31','2006-03-31','2006-06-30','2006-09-30','2006-12-31','2007-03-31','2007-06-30','2007-09-30','2007-12-31','2008-03-31','2008-06-30','2008-09-30','2008-12-31','2009-03-31','2009-06-30','2009-09-30','2009-12-31','2010-03-31','2010-06-30','2010-09-30','2010-12-31','2011-03-31','2011-06-30','2011-09-30','2011-12-31','2012-03-31','2012-06-30','2012-09-30','2012-12-31','2013-03-31','2013-06-30','2013-09-30','2013-12-31','2014-03-31','2014-06-30','2014-09-30','2014-12-31','2015-03-31','2015-06-30','2015-09-30','2015-12-31','2016-03-31','2016-06-30'], axis=1)\n",
    "df1 = df1.drop(['RegionID','tier'], axis=1)\n",
    "df1 = df1.groupby(\"RegionName\").mean().reset_index()\n",
    "df1 = df1.dropna()\n",
    "df1.head()"
   ]
  },
  {
   "cell_type": "code",
   "execution_count": null,
   "metadata": {},
   "outputs": [],
   "source": [
    "#Exploratory Data Analysis Part 2\n",
    "df2 = df\n",
    "df2 = df2.drop(['RegionID','tier','PopRank','RegionName', 'Affordability(1999-2016)'], axis=1)\n",
    "df2 = df2.describe()\n",
    "df2 = df2.drop(['count', 'std', 'min', '25%', '50%', '75%', 'max'])\n",
    "df2 = df2.transpose().reset_index()\n",
    "df2 = df2.rename(columns={'index': 'Year', 'mean': 'Avg Mortgage Affordability'})\n",
    "df2['Year'] = pd.to_datetime(df2['Year'])\n",
    "df2 = df2.groupby(df2.Year.dt.year).mean().reset_index()\n",
    "df2.head()"
   ]
  },
  {
   "cell_type": "code",
   "execution_count": null,
   "metadata": {},
   "outputs": [],
   "source": [
    "#Export Processed Data\n",
    "from pathlib import Path  \n",
    "\n",
    "filepath = Path('../data/processed/affordability_by_year.csv')  \n",
    "filepath.parent.mkdir(parents=True, exist_ok=True)  \n",
    "df2.to_csv(filepath) \n",
    "\n",
    "filepath = Path('../data/processed/affordability_by_location.csv')  \n",
    "filepath.parent.mkdir(parents=True, exist_ok=True)  \n",
    "df1.to_csv(filepath)"
   ]
  },
  {
   "cell_type": "code",
   "execution_count": null,
   "metadata": {},
   "outputs": [],
   "source": [
    "#Data Visualization 1\n",
    "\n",
    "plt.plot(df2['Year'], df2['Avg Mortgage Affordability'])\n",
    "plt.title(\"Mortgage Affordability (1999-2016)\")\n",
    "plt.xlabel(\"Year\")\n",
    "plt.ylabel(\"Mortgage Affordability\")\n",
    "plt.show()"
   ]
  },
  {
   "cell_type": "code",
   "execution_count": null,
   "metadata": {},
   "outputs": [],
   "source": [
    "#Data Visualization 2"
   ]
  },
  {
   "cell_type": "code",
   "execution_count": null,
   "metadata": {},
   "outputs": [],
   "source": [
    "#Data Visualization 3"
   ]
  },
  {
   "cell_type": "code",
   "execution_count": null,
   "metadata": {},
   "outputs": [],
   "source": [
    "#Data Visualization 4"
   ]
  }
 ],
 "metadata": {
  "kernelspec": {
   "display_name": "Python 3 (ipykernel)",
   "language": "python",
   "name": "python3"
  }
 },
 "nbformat": 4,
 "nbformat_minor": 4
}

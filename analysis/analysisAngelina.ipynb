{
 "cells": [
  {
   "cell_type": "markdown",
   "metadata": {},
   "source": [
    "# Angelina Dubrule"
   ]
  },
  {
   "cell_type": "markdown",
   "metadata": {},
   "source": [
    "## Research question/interests\n",
    "\n",
    "**Which city in our dataset has the most affordable mortgage? Which city has the least?**\n",
    "\n",
    "We can answer this question by averaging the affordability over the 17 year time span (1999-2016) for each row in the graph. Then we could compare this to each RegionName by removing all other columns. We can then combine the repeated data from the same city multiple times by averaging the repeated terms. Once there are only two columns, average affordability and Region Name, we can order the terms by lowest to hishest affordability. The first Region Name term will be the most affordable, and the last will be the least.\n",
    "\n",
    "**Has the affordability of a mortgage changed over the 17 year period that the data was collected? If so, did affordability increase or decrease?**\n",
    "\n",
    "We can answer this question by removing all data columns from the table except for the affordability calculation columns. Find the average for each quarter by finding the average for each column using all rows. There should now be only two rows, the date of data collecton and the average affordability. We can then plot a graph showing the average affordability over time, and see if there are any trends.\n",
    "\n",
    "**Is there any correlation between tier level and affordability? If so, is as as expected with higher tier levels having lower affordability?\n",
    "\n",
    "We can answer this question by removing all columns that are not numerical, and then group by tier and average the values. We can then either plot a graph based on all of the data, or simplify the data by averaging the affordability values by year, or even averaging the affordability values over all time."
   ]
  },
  {
   "cell_type": "code",
   "execution_count": null,
   "metadata": {},
   "outputs": [],
   "source": [
    "import numpy as np\n",
    "import pandas as pd\n",
    "import matplotlib\n",
    "import matplotlib.pyplot as plt\n",
    "import seaborn as sns\n",
    "import plotly.express as px\n",
    "%matplotlib inline"
   ]
  },
  {
   "cell_type": "code",
   "execution_count": null,
   "metadata": {},
   "outputs": [],
   "source": [
    "df = pd.read_csv(\"../data/raw/TieredAffordability_Mortgage.csv\")\n",
    "\n",
    "#Preliminary Data Processing\n",
    "df.info()\n",
    "# set identifier \"RegionID\" as string\n",
    "df['RegionID'] = df['RegionID'].astype('str')\n",
    "# set categorical data\n",
    "df['tier'] = df['tier'].astype('category')\n",
    "df['RegionName'] = df['RegionName'].astype('category')"
   ]
  },
  {
   "cell_type": "code",
   "execution_count": null,
   "metadata": {},
   "outputs": [],
   "source": [
    "df.head()"
   ]
  },
  {
   "cell_type": "code",
   "execution_count": null,
   "metadata": {},
   "outputs": [],
   "source": [
    "# generate preview of entries with null values\n",
    "if df.isnull().any(axis=None):\n",
    "    print(\"\\nPreview of data with null values:\\nxxxxxxxxxxxxx\")\n",
    "    print(df[df.isnull().any(axis=1)].head(3))\n",
    "    plt.show()"
   ]
  },
  {
   "cell_type": "code",
   "execution_count": null,
   "metadata": {},
   "outputs": [],
   "source": [
    "# generate count statistics of duplicate entries\n",
    "if len(df[df.duplicated()]) > 0:\n",
    "    print(\"No. of duplicated entries: \", len(df[df.duplicated()]))\n",
    "    print(df[df.duplicated(keep=False)].sort_values(by=list(df.columns)).head())\n",
    "else:\n",
    "    print(\"No duplicated entries found\")"
   ]
  },
  {
   "cell_type": "code",
   "execution_count": null,
   "metadata": {},
   "outputs": [],
   "source": [
    "#Exploratory Data Analysis Part 1\n",
    "df1 = df\n",
    "df1['Affordability(1999-2016)'] = (df['1999-06-30'] + df['1999-09-30'] + df['1999-12-31'] + df['2000-03-31'] + df['2000-06-30'] + df['2000-09-30'] + df['2000-12-31'] + df['2001-03-31'] + df['2001-06-30'] + df['2001-09-30'] + df['2001-12-31'] + df['2002-03-31'] + df['2002-06-30'] + df['2002-09-30'] + df['2002-12-31'] + df['2003-03-31'] + df['2003-06-30'] + df['2003-09-30'] + df['2003-12-31'] + df['2004-03-31'] + df['2004-06-30'] + df['2004-09-30'] + df['2004-12-31'] + df['2005-03-31'] + df['2005-06-30'] + df['2005-09-30'] + df['2005-12-31'] + df['2006-03-31'] + df['2006-06-30'] + df['2006-09-30'] + df['2006-12-31'] + df['2007-03-31'] + df['2007-06-30'] + df['2007-09-30'] + df['2007-12-31'] + df['2008-03-31'] + df['2008-06-30'] + df['2008-09-30'] + df['2008-12-31'] + df['2009-03-31'] + df['2009-06-30'] + df['2009-09-30'] + df['2009-12-31'] + df['2010-03-31'] + df['2010-06-30'] + df['2010-09-30'] + df['2010-12-31'] + df['2011-03-31'] + df['2011-06-30'] + df['2011-09-30'] + df['2011-12-31'] + df['2012-03-31'] + df['2012-06-30'] + df['2012-09-30'] + df['2012-12-31'] + df['2013-03-31'] + df['2013-06-30'] + df['2013-09-30'] + df['2013-12-31'] + df['2014-03-31'] + df['2014-06-30'] + df['2014-09-30'] + df['2014-12-31'] + df['2015-03-31'] + df['2015-06-30'] + df['2015-09-30'] + df['2015-12-31'] + df['2016-03-31'] + df['2016-06-30']) / 69\n",
    "df1 = df1.drop(['1999-06-30','1999-09-30','1999-12-31','2000-03-31','2000-06-30','2000-09-30','2000-12-31','2001-03-31','2001-06-30','2001-09-30','2001-12-31','2002-03-31','2002-06-30','2002-09-30','2002-12-31','2003-03-31','2003-06-30','2003-09-30','2003-12-31','2004-03-31','2004-06-30','2004-09-30','2004-12-31','2005-03-31','2005-06-30','2005-09-30','2005-12-31','2006-03-31','2006-06-30','2006-09-30','2006-12-31','2007-03-31','2007-06-30','2007-09-30','2007-12-31','2008-03-31','2008-06-30','2008-09-30','2008-12-31','2009-03-31','2009-06-30','2009-09-30','2009-12-31','2010-03-31','2010-06-30','2010-09-30','2010-12-31','2011-03-31','2011-06-30','2011-09-30','2011-12-31','2012-03-31','2012-06-30','2012-09-30','2012-12-31','2013-03-31','2013-06-30','2013-09-30','2013-12-31','2014-03-31','2014-06-30','2014-09-30','2014-12-31','2015-03-31','2015-06-30','2015-09-30','2015-12-31','2016-03-31','2016-06-30'], axis=1)\n",
    "df1 = df1.drop(['RegionID','tier'], axis=1)\n",
    "df1 = df1.groupby(\"RegionName\").mean().reset_index()\n",
    "ls = df1['RegionName'].tolist()\n",
    "ls1 = []\n",
    "for i in ls:\n",
    "    m = i[-2:]\n",
    "    ls1.append(m)\n",
    "df1['RegionName'] = ls1\n",
    "df1 = df1.dropna()\n",
    "df1.head()"
   ]
  },
  {
   "cell_type": "code",
   "execution_count": null,
   "metadata": {},
   "outputs": [],
   "source": [
    "#Exploratory Data Analysis Part 2\n",
    "df2 = df\n",
    "df2 = df2.drop(['RegionID','tier','PopRank','RegionName', 'Affordability(1999-2016)'], axis=1)\n",
    "df2 = df2.describe()\n",
    "df2 = df2.drop(['count', 'std', 'min', '25%', '50%', '75%', 'max'])\n",
    "df2 = df2.transpose().reset_index()\n",
    "df2 = df2.rename(columns={'index': 'Year', 'mean': 'Avg Mortgage Affordability'})\n",
    "df2['Year'] = pd.to_datetime(df2['Year'])\n",
    "df2 = df2.groupby(df2.Year.dt.year).mean().reset_index()\n",
    "ls2 = df2['Avg Mortgage Affordability']\n",
    "ls3 = []\n",
    "for i in ls2:\n",
    "    if i < ls2[0]:\n",
    "        ls3.append('Less Affordable')\n",
    "    elif i > ls2[0]:\n",
    "        ls3.append('More Affordable')\n",
    "    else:\n",
    "        ls3.append('Same Affordability')\n",
    "df2['Affordability Compared to 1999'] = ls3\n",
    "df2.head()"
   ]
  },
  {
   "cell_type": "code",
   "execution_count": null,
   "metadata": {},
   "outputs": [],
   "source": [
    "df3 = df.drop(['RegionID', 'RegionName' , 'tier', 'Affordability(1999-2016)'], axis=1)\n",
    "df3['1999']=df3['1999-06-30'] + df3['1999-09-30'] + df3['1999-12-31'] / 3\n",
    "df3['2000']=df3['2000-03-31'] + df3['2000-06-30'] + df3['2000-09-30'] + df3['2000-12-31'] / 4\n",
    "df3['2001']=df3['2001-03-31'] + df3['2001-06-30'] + df3['2001-09-30'] + df3['2001-12-31'] / 4\n",
    "df3['2002']=df3['2002-03-31'] + df3['2002-06-30'] + df3['2002-09-30'] + df3['2002-12-31'] / 4\n",
    "df3['2003']=df3['2003-03-31'] + df3['2003-06-30'] + df3['2003-09-30'] + df3['2003-12-31'] / 4\n",
    "df3['2004']=df3['2004-03-31'] + df3['2004-06-30'] + df3['2004-09-30'] + df3['2004-12-31'] / 4\n",
    "df3['2005']=df3['2005-03-31'] + df3['2005-06-30'] + df3['2005-09-30'] + df3['2005-12-31'] / 4\n",
    "df3['2006']=df3['2006-03-31'] + df3['2006-06-30'] + df3['2006-09-30'] + df3['2006-12-31'] / 4\n",
    "df3['2007']=df3['2007-03-31'] + df3['2007-06-30'] + df3['2007-09-30'] + df3['2007-12-31'] / 4\n",
    "df3['2008']=df3['2008-03-31'] + df3['2008-06-30'] + df3['2008-09-30'] + df3['2008-12-31'] / 4\n",
    "df3['2009']=df3['2009-03-31'] + df3['2009-06-30'] + df3['2009-09-30'] + df3['2009-12-31'] / 4\n",
    "df3['2010']=df3['2010-03-31'] + df3['2010-06-30'] + df3['2010-09-30'] + df3['2010-12-31'] / 4\n",
    "df3['2011']=df3['2011-03-31'] + df3['2011-06-30'] + df3['2011-09-30'] + df3['2011-12-31'] / 4\n",
    "df3['2012']=df3['2012-03-31'] + df3['2012-06-30'] + df3['2012-09-30'] + df3['2012-12-31'] / 4\n",
    "df3['2013']=df3['2013-03-31'] + df3['2013-06-30'] + df3['2013-09-30'] + df3['2013-12-31'] / 4\n",
    "df3['2014']=df3['2014-03-31'] + df3['2014-06-30'] + df3['2014-09-30'] + df3['2014-12-31'] / 4\n",
    "df3['2015']=df3['2015-03-31'] + df3['2015-06-30'] + df3['2015-09-30'] + df3['2015-12-31'] / 4\n",
    "df3['2016']=df3['2016-03-31'] + df3['2016-06-30'] / 2\n",
    "df3 = df3.drop(['1999-06-30','1999-09-30','1999-12-31','2000-03-31','2000-06-30','2000-09-30','2000-12-31','2001-03-31','2001-06-30','2001-09-30','2001-12-31','2002-03-31','2002-06-30','2002-09-30','2002-12-31','2003-03-31','2003-06-30','2003-09-30','2003-12-31','2004-03-31','2004-06-30','2004-09-30','2004-12-31','2005-03-31','2005-06-30','2005-09-30','2005-12-31','2006-03-31','2006-06-30','2006-09-30','2006-12-31','2007-03-31','2007-06-30','2007-09-30','2007-12-31','2008-03-31','2008-06-30','2008-09-30','2008-12-31','2009-03-31','2009-06-30','2009-09-30','2009-12-31','2010-03-31','2010-06-30','2010-09-30','2010-12-31','2011-03-31','2011-06-30','2011-09-30','2011-12-31','2012-03-31','2012-06-30','2012-09-30','2012-12-31','2013-03-31','2013-06-30','2013-09-30','2013-12-31','2014-03-31','2014-06-30','2014-09-30','2014-12-31','2015-03-31','2015-06-30','2015-09-30','2015-12-31','2016-03-31','2016-06-30'], axis=1)\n",
    "df3 = df3.groupby('PopRank').mean().reset_index()\n",
    "df3.head()"
   ]
  },
  {
   "cell_type": "code",
   "execution_count": null,
   "metadata": {},
   "outputs": [],
   "source": [
    "#Export Processed Data\n",
    "from pathlib import Path  \n",
    "\n",
    "filepath = Path('../data/processed/affordability_by_year.csv')  \n",
    "filepath.parent.mkdir(parents=True, exist_ok=True)  \n",
    "df2.to_csv(filepath) \n",
    "\n",
    "filepath = Path('../data/processed/affordability_by_location.csv')  \n",
    "filepath.parent.mkdir(parents=True, exist_ok=True)  \n",
    "df1.to_csv(filepath)\n",
    "\n",
    "filepath = Path('../data/processed/affordability_vs_pop.csv')  \n",
    "filepath.parent.mkdir(parents=True, exist_ok=True)  \n",
    "df3.to_csv(filepath)"
   ]
  },
  {
   "cell_type": "code",
   "execution_count": null,
   "metadata": {},
   "outputs": [],
   "source": [
    "#Data Visualization 1\n",
    "\n",
    "fig = px.choropleth(df1,\n",
    "                    locations='RegionName', \n",
    "                    locationmode=\"USA-states\", \n",
    "                    scope=\"usa\",\n",
    "                    color='Affordability(1999-2016)',\n",
    "                    color_continuous_scale=\"sunset_r\",\n",
    "                    )\n",
    "fig.update_layout(\n",
    "      title_text = 'Average Mortgage Affordability by State',\n",
    "      title_font_family=\"Times New Roman\",\n",
    "      title_font_size = 22,\n",
    "      title_font_color=\"black\", \n",
    "      title_x=0.45, \n",
    "      )\n",
    "fig.show()"
   ]
  },
  {
   "cell_type": "markdown",
   "metadata": {},
   "source": [
    "California looks to be the most affordable state."
   ]
  },
  {
   "cell_type": "code",
   "execution_count": null,
   "metadata": {},
   "outputs": [],
   "source": [
    "#Data Visualization 2\n",
    "\n",
    "fig = px.choropleth(df1,\n",
    "                    locations='RegionName', \n",
    "                    locationmode=\"USA-states\", \n",
    "                    scope=\"usa\",\n",
    "                    color='PopRank',\n",
    "                    color_continuous_scale=\"Viridis\",\n",
    "                    labels={'PopRank': 'Population Rank'}\n",
    "                    )\n",
    "fig.update_layout(\n",
    "      title_text = 'Population of Chosen City for each State',\n",
    "      title_font_family=\"Times New Roman\",\n",
    "      title_font_size = 22,\n",
    "      title_font_color=\"black\", \n",
    "      title_x=0.45, \n",
    "      )\n",
    "fig.show()"
   ]
  },
  {
   "cell_type": "markdown",
   "metadata": {},
   "source": [
    "Texas looks to be the sate with one of the most highly populated cities chosen for data collection."
   ]
  },
  {
   "cell_type": "code",
   "execution_count": null,
   "metadata": {},
   "outputs": [],
   "source": [
    "#Data Visualization 3\n",
    "sns.set(style=\"whitegrid\", rc={'figure.figsize':(11.7,8.27), 'font.size':10, 'axes.titlesize':20, 'axes.labelsize':17})\n",
    "sns.barplot(data=df2, x='Year', y='Avg Mortgage Affordability', hue='Affordability Compared to 1999', saturation=0.5, width = 1, palette='pastel').set(title = \"Affordability of Mortgages in the USA from 1999-2016\")\n",
    "plt.legend(title=\"Affordability Compared to 1999\", fontsize=17, title_fontsize=18)"
   ]
  },
  {
   "cell_type": "markdown",
   "metadata": {},
   "source": [
    "Affordability seems to have changed a lot over time. It peaked as most affordable in 2006, and then decreased with the lowest value in 2012. "
   ]
  },
  {
   "cell_type": "code",
   "execution_count": null,
   "metadata": {},
   "outputs": [],
   "source": [
    "#Data Visualization 4\n",
    "\n",
    "ax1 = df3.plot(kind='scatter', x='PopRank', y='1999', label='1999', color='red') \n",
    "ax2 = df3.plot(kind='scatter', x='PopRank', y='2000', label='2000', color='green', ax=ax1)    \n",
    "ax3 = df3.plot(kind='scatter', x='PopRank', y='2001', label='2001', color='blue', ax=ax1)\n",
    "ax3 = df3.plot(kind='scatter', x='PopRank', y='2002', label='2002', color='mediumspringgreen', ax=ax1)\n",
    "ax3 = df3.plot(kind='scatter', x='PopRank', y='2003', label='2003', color='deepskyblue', ax=ax1)\n",
    "ax3 = df3.plot(kind='scatter', x='PopRank', y='2004', label='2004', color='plum', ax=ax1)\n",
    "ax3 = df3.plot(kind='scatter', x='PopRank', y='2005', label='2005', color='slategray', ax=ax1)\n",
    "ax3 = df3.plot(kind='scatter', x='PopRank', y='2006', label='2006', color='mediumpurple', ax=ax1)\n",
    "ax3 = df3.plot(kind='scatter', x='PopRank', y='2007', label='2007', color='gold', ax=ax1)\n",
    "ax3 = df3.plot(kind='scatter', x='PopRank', y='2008', label='2008', color='silver', ax=ax1)\n",
    "ax3 = df3.plot(kind='scatter', x='PopRank', y='2009', label='2009', color='palevioletred', ax=ax1)\n",
    "ax3 = df3.plot(kind='scatter', x='PopRank', y='2010', label='2010', color='sandybrown', ax=ax1)\n",
    "ax3 = df3.plot(kind='scatter', x='PopRank', y='2011', label='2011', color='rosybrown', ax=ax1)\n",
    "ax3 = df3.plot(kind='scatter', x='PopRank', y='2012', label='2012', color='sienna', ax=ax1)\n",
    "ax3 = df3.plot(kind='scatter', x='PopRank', y='2013', label='2013', color='tan', ax=ax1)\n",
    "ax3 = df3.plot(kind='scatter', x='PopRank', y='2014', label='2014', color='darkgreen', ax=ax1)\n",
    "ax3 = df3.plot(kind='scatter', x='PopRank', y='2015', label='2015', color='firebrick', ax=ax1)\n",
    "ax3 = df3.plot(kind='scatter', x='PopRank', y='2016', label='2016', color='navy', ax=ax1).set(title='Affordability of Mortgages in the USA Vs. Population', xlabel='Population Rank (50 = Smallest, 1 = Largest)', ylabel= \"Affordability\") \n",
    "\n",
    "plt.legend(title=\"Year\", fontsize=10, title_fontsize=12)"
   ]
  },
  {
   "cell_type": "markdown",
   "metadata": {},
   "source": [
    "There does not seem to be any correlation between mortgage affordability and population based on our data."
   ]
  }
 ],
 "metadata": {
  "kernelspec": {
   "display_name": "Python 3 (ipykernel)",
   "language": "python",
   "name": "python3"
  }
 },
 "nbformat": 4,
 "nbformat_minor": 4
}

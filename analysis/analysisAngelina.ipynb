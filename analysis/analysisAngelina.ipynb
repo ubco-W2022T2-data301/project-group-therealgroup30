{
 "cells": [
  {
   "cell_type": "markdown",
   "metadata": {},
   "source": [
    "# Angelina Dubrule"
   ]
  },
  {
   "cell_type": "markdown",
   "metadata": {},
   "source": [
    "## Research question/interests\n",
    "\n",
    "**Does the population of the city that the property is located in have any affect on the affordablilty of a mortgage? If so, is this affect positive or negative?**\n",
    "\n",
    "We can answer this question by averaging the affordability over the 17 year time span (1999-2016) for each row in the graph. Then we could compare this to the population ranking by removing all other columns. We can then combine the repeated data from the same city multiple times by averaging the repeated terms. Once there are only two columns, average affordability and rank, we can order the data by population rank and then plot the data in a graph to see if there are any trends.\n",
    "\n",
    "**Which city in our dataset has the most affordable mortgage? Which city has the least?**\n",
    "\n",
    "We can answer this question by averaging the affordability over the 17 year time span (1999-2016) for each row in the graph. Then we could compare this to each RegionName by removing all other columns. We can then combine the repeated data from the same city multiple times by averaging the repeated terms. Once there are only two columns, average affordability and Region Name, we can order the terms by lowest to hishest affordability. The first Region Name term will be the most affordable, and the last will be the least.\n",
    "\n",
    "**Has the affordability of a mortgage changed over the 17 year period that the data was collected? If so, did affordability increase or decrease?**\n",
    "\n",
    "We can answer this question by removing all data columns from the table except for the affordability calculation columns. Find the average for each quarter by finding the average for each column using all rows. There should now be only two rows, the date of data collecton and the average affordability. We can then plot a graph showing the average affordability over time, and see if there are any trends."
   ]
  },
  {
   "cell_type": "code",
   "execution_count": null,
   "metadata": {},
   "outputs": [],
   "source": [
    "import numpy as np\n",
    "import pandas as pd"
   ]
  },
  {
   "cell_type": "code",
   "execution_count": null,
   "metadata": {},
   "outputs": [],
   "source": [
    "df = pd.read_csv(\"../data/raw/TieredAffordability_Mortgage.csv\")"
   ]
  }
 ],
 "metadata": {
  "kernelspec": {
   "display_name": "Python 3 (ipykernel)",
   "language": "python",
   "name": "python3"
  }
 },
 "nbformat": 4,
 "nbformat_minor": 4
}

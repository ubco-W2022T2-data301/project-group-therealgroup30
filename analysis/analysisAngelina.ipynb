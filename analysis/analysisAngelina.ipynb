{
 "cells": [
  {
   "cell_type": "markdown",
   "metadata": {},
   "source": [
    "# Angelina Dubrule"
   ]
  },
  {
   "cell_type": "markdown",
   "metadata": {},
   "source": [
    "## Research question/interests\n",
    "\n",
    "**Which state in our dataset has the most affordable mortgage? Which state has the least?**\n",
    "\n",
    "We can answer this question by averaging the affordability over the 17 year time span (1999-2016) for each row in the graph. Then we could compare this to each RegionName by removing all other columns. We can then combine the repeated data from the same state multiple times by averaging the repeated terms. Once there are only two columns, average affordability and Region Name, we can order the terms by lowest to hishest affordability. The first Region Name term will be the most affordable, and the last will be the least.\n",
    "\n",
    "**Has the affordability of a mortgage changed over the 17 year period that the data was collected? If so, did affordability increase or decrease?**\n",
    "\n",
    "We can answer this question by removing all data columns from the table except for the affordability calculation columns. Find the average for each quarter by finding the average for each column using all rows. There should now be only two rows, the date of data collecton and the average affordability. We can then plot a graph showing the average affordability over time, and see if there are any trends.\n",
    "\n",
    "**Is there any correlation between tier level and affordability? If so, is as as expected with higher tier levels having lower affordability?\n",
    "\n",
    "We can answer this question by removing all columns that are not numerical, and then group by tier and average the values. We can then either plot a graph based on all of the data, or simplify the data by averaging the affordability values by year, or even averaging the affordability values over all time."
   ]
  },
  {
   "cell_type": "code",
   "execution_count": null,
   "metadata": {},
   "outputs": [],
   "source": [
    "import numpy as np\n",
    "import pandas as pd\n",
    "import matplotlib\n",
    "import matplotlib.pyplot as plt\n",
    "import seaborn as sns\n",
    "import plotly.express as px\n",
    "%matplotlib inline\n",
    "import sys\n",
    "sys.path.append('./code') \n",
    "import project_functions_angelina as fun"
   ]
  },
  {
   "cell_type": "markdown",
   "metadata": {},
   "source": [
    "## Analysis Pipeline\n",
    "### Load and Clean Data"
   ]
  },
  {
   "cell_type": "code",
   "execution_count": null,
   "metadata": {},
   "outputs": [],
   "source": [
    "#Preliminary Data Processing\n",
    "raw ='../data/raw/TieredAffordability_Mortgage.csv'\n",
    "df = fun.cleand(raw)\n",
    "#check for null values\n",
    "fun.isNull(df)\n",
    "#check for duplicates\n",
    "fun.isDup(df)"
   ]
  },
  {
   "cell_type": "markdown",
   "metadata": {},
   "source": [
    "### Process and Wrangle Data"
   ]
  },
  {
   "cell_type": "code",
   "execution_count": null,
   "metadata": {},
   "outputs": [],
   "source": [
    "#average affordability\n",
    "aot = fun.avgOverTime(df)\n",
    "\n",
    "#affordability by year\n",
    "aby = fun.affByYear(df)"
   ]
  },
  {
   "cell_type": "markdown",
   "metadata": {},
   "source": [
    "### EDA"
   ]
  },
  {
   "cell_type": "code",
   "execution_count": null,
   "metadata": {},
   "outputs": [],
   "source": [
    "#Exploratory Data Analysis Part 1\n",
    "df1 = fun.gbState(fun.removePeriodCol(aot))\n",
    "df1.head()"
   ]
  },
  {
   "cell_type": "code",
   "execution_count": null,
   "metadata": {},
   "outputs": [],
   "source": [
    "#Exploratory Data Analysis Part 2\n",
    "df2 = fun.affCompYear(aby, 0)\n",
    "df2.head()"
   ]
  },
  {
   "cell_type": "code",
   "execution_count": null,
   "metadata": {},
   "outputs": [],
   "source": [
    "#Exploratory Data Analysis Part 3\n",
    "df3 = fun.gbPop(fun.gbState(fun.removePeriodCol(aot)))\n",
    "df3.head()"
   ]
  },
  {
   "cell_type": "code",
   "execution_count": null,
   "metadata": {},
   "outputs": [],
   "source": [
    "#Export Processed Data\n",
    "from pathlib import Path  \n",
    "\n",
    "filepath = Path('../data/processed/affordability_by_year.csv')  \n",
    "filepath.parent.mkdir(parents=True, exist_ok=True)  \n",
    "df2.to_csv(filepath) \n",
    "\n",
    "filepath = Path('../data/processed/affordability_by_state.csv')  \n",
    "filepath.parent.mkdir(parents=True, exist_ok=True)  \n",
    "df1.to_csv(filepath)\n",
    "\n",
    "filepath = Path('../data/processed/affordability_by_pop.csv')  \n",
    "filepath.parent.mkdir(parents=True, exist_ok=True)  \n",
    "df3.to_csv(filepath)"
   ]
  },
  {
   "cell_type": "code",
   "execution_count": null,
   "metadata": {},
   "outputs": [],
   "source": [
    "#Data Visualization 1\n",
    "fig = px.choropleth(df1,\n",
    "                    locations='RegionName', \n",
    "                    locationmode=\"USA-states\", \n",
    "                    scope=\"usa\",\n",
    "                    color='Affordability(1999-2016)',\n",
    "                    color_continuous_scale=\"sunset_r\",\n",
    "                    )\n",
    "fig.update_layout(\n",
    "      title_text = 'Average Mortgage Affordability by State',\n",
    "      title_font_family=\"Times New Roman\",\n",
    "      title_font_size = 22,\n",
    "      title_font_color=\"black\", \n",
    "      title_x=0.45, \n",
    "      )\n",
    "fig.show()"
   ]
  },
  {
   "cell_type": "markdown",
   "metadata": {},
   "source": [
    "California looks to be the least affordable state."
   ]
  },
  {
   "cell_type": "code",
   "execution_count": null,
   "metadata": {},
   "outputs": [],
   "source": [
    "#Data Visualization 2\n",
    "fig = px.choropleth(df1,\n",
    "                    locations='RegionName', \n",
    "                    locationmode=\"USA-states\", \n",
    "                    scope=\"usa\",\n",
    "                    color='PopRank',\n",
    "                    color_continuous_scale=\"Viridis\",\n",
    "                    labels={'PopRank': 'Population Rank'}\n",
    "                    )\n",
    "fig.update_layout(\n",
    "      title_text = 'Population of Chosen City for each State',\n",
    "      title_font_family=\"Times New Roman\",\n",
    "      title_font_size = 22,\n",
    "      title_font_color=\"black\", \n",
    "      title_x=0.45, \n",
    "      )\n",
    "fig.show()"
   ]
  },
  {
   "cell_type": "markdown",
   "metadata": {},
   "source": [
    "Texas looks to be the state with one of the most highly populated cities chosen for data collection."
   ]
  },
  {
   "cell_type": "code",
   "execution_count": null,
   "metadata": {},
   "outputs": [],
   "source": [
    "#Data Visualization 3\n",
    "sns.set(style=\"whitegrid\", rc={'figure.figsize':(11.7,8.27), 'font.size':10, 'axes.titlesize':20, 'axes.labelsize':17})\n",
    "sns.barplot(data=df2, x='Year', y='Mortgage Affordability', hue='Affordability Compared to 1999', saturation=0.5, width = 1, palette='pastel').set(title = \"Affordability of Mortgages in the USA from 1999-2016\")\n",
    "plt.legend(title=\"Affordability Compared to 1999\", fontsize=17, title_fontsize=18)"
   ]
  },
  {
   "cell_type": "markdown",
   "metadata": {},
   "source": [
    "Affordability seems to have changed a lot over time. It peaked as least affordable in 2006, and then decreased with the most affordable mortgage in 2012. "
   ]
  },
  {
   "cell_type": "code",
   "execution_count": null,
   "metadata": {},
   "outputs": [],
   "source": [
    "#Data Visualization 4\n",
    "sns.scatterplot(data=df1, x='PopRank', y='Affordability(1999-2016)', hue='RegionName', palette= 'deep')"
   ]
  },
  {
   "cell_type": "markdown",
   "metadata": {},
   "source": [
    "There does not seem to be any correlation between mortgage affordability and population based on our data."
   ]
  },
  {
   "cell_type": "markdown",
   "metadata": {},
   "source": [
    "### Data Analysis\n",
    "#### Question 1 - Which state in our dataset has the most affordable mortgage? Which state has the least?\n",
    "In the exploratoy data analysis stage, we were able to use our choropleth graph to visualize the affordability of a mortgage by state. Let's revisit that visualization now."
   ]
  },
  {
   "cell_type": "code",
   "execution_count": null,
   "metadata": {},
   "outputs": [],
   "source": [
    "fig = px.choropleth(df1,\n",
    "                    locations='RegionName', \n",
    "                    locationmode=\"USA-states\", \n",
    "                    scope=\"usa\",\n",
    "                    color='Affordability(1999-2016)',\n",
    "                    color_continuous_scale=\"sunset\",\n",
    "                    )\n",
    "fig.update_layout(\n",
    "      title_text = 'Average Mortgage Affordability by State',\n",
    "      title_font_family=\"Times New Roman\",\n",
    "      title_font_size = 22,\n",
    "      title_font_color=\"black\", \n",
    "      title_x=0.45, \n",
    "      )\n",
    "fig.show()"
   ]
  },
  {
   "cell_type": "markdown",
   "metadata": {},
   "source": [
    "#### Observations\n",
    "In revisting the choropleth, we can see that there is a significant difference in mortagage affordability accross different states in the US. We can see that California and New York have the lowest affordability, while Oklahoma and Michigan have the highest affordability. Let's try another visualization to narrow down our findings."
   ]
  },
  {
   "cell_type": "code",
   "execution_count": null,
   "metadata": {},
   "outputs": [],
   "source": [
    "sns.set(style=\"whitegrid\", rc={'figure.figsize':(7,8), 'font.size':10, 'axes.titlesize':20, 'axes.labelsize':17})\n",
    "sns.barplot(data=df1, x='Affordability(1999-2016)', y='RegionName', orient='h')"
   ]
  },
  {
   "cell_type": "markdown",
   "metadata": {},
   "source": [
    "#### Observations\n",
    "Our second visualization is a bar graph that compares each states average affordability over the time period that the data was collected. Again, we can clearly see that affordability varies greatly depending on state. This visualization also shows us more clearly that California is the least affordable state, but it is still hard to tell which state is the least affordable."
   ]
  },
  {
   "cell_type": "code",
   "execution_count": null,
   "metadata": {},
   "outputs": [],
   "source": [
    "df1 = fun.affCompState(df1, 2)\n",
    "sns.barplot(data=df1, x='Affordability(1999-2016)', y='RegionName', orient='h', hue='Affordability Compared to CA', palette='pastel', saturation=0.5).set(title = \"Affordability of Mortgages in the USA from 1999-2016\", xlabel='State')\n",
    "plt.legend(title=\"Affordability Compared to California\", fontsize=9, title_fontsize=10)"
   ]
  },
  {
   "cell_type": "markdown",
   "metadata": {},
   "source": [
    "#### Observations\n",
    "Our third visualization is a bar graph that compares each states average affordability over the time period that the data was collected. Each bar is also colored to show whether it is more affordabile, less affordable, or the same level of affordability as California. It is now indesputable that California is in fact the least affordable state, but what about our most affordable?"
   ]
  },
  {
   "cell_type": "code",
   "execution_count": null,
   "metadata": {},
   "outputs": [],
   "source": [
    "df1 = fun.affCompState(df1.drop(['Affordability Compared to CA'], axis=1), 19)\n",
    "sns.barplot(data=df1, x='Affordability(1999-2016)', y='RegionName', orient='h', hue='Affordability Compared to OK', palette='pastel', saturation=0.5).set(title = \"Affordability of Mortgages in the USA from 1999-2016\", xlabel='State')\n",
    "plt.legend(title=\"Affordability Compared to Oklahoma\", fontsize=9, title_fontsize=10)"
   ]
  },
  {
   "cell_type": "markdown",
   "metadata": {},
   "source": [
    "#### Observations\n",
    "Our fourth visualization is the same bar graph, but this time each bar is colored to show whether it is more affordabile, less affordable, or the same level of affordability as Oklahoma. It is clear to see in this visualization that Oklahoma is in fact the most affordable state."
   ]
  },
  {
   "cell_type": "markdown",
   "metadata": {},
   "source": [
    "#### Conclusion\n",
    "From our observations, we can conclude that the state that the mortgage is taken out in has a large affect on the affordability of the mortgage, as our average values for mortgage affordability over a span of 17 years vary greatly from state to state. We can also conclude that California is the state with the least affordable mortgage, and that Oklahoma is the state with the most affordable mortgage."
   ]
  },
  {
   "cell_type": "markdown",
   "metadata": {},
   "source": [
    "#### Question 2 - Has the affordability of a mortgage changed over the 17 year period that the data was collected? If so, did affordability increase or decrease?\n",
    "In the exploratoy data analysis stage, we were able to use a bar graph to visualize the average mortgage affordability for each year. Let's revisit that visualization."
   ]
  },
  {
   "cell_type": "code",
   "execution_count": null,
   "metadata": {},
   "outputs": [],
   "source": [
    "sns.set(style=\"whitegrid\", rc={'figure.figsize':(11.7,8.27), 'font.size':10, 'axes.titlesize':20, 'axes.labelsize':17})\n",
    "sns.barplot(data=df2, x='Year', y='Mortgage Affordability', hue='Affordability Compared to 1999', saturation=0.5, width = 1, palette='pastel').set(title = \"Affordability of Mortgages in the USA from 1999-2016\")\n",
    "plt.legend(title=\"Affordability Compared to 1999\", fontsize=17, title_fontsize=18)"
   ]
  },
  {
   "cell_type": "markdown",
   "metadata": {},
   "source": [
    "#### Observations\n",
    "In looking at our graph, we can see that affordability has changed quite a lot over the years that our dat was collected. However, it is hard to tell whether or not mortgages have become more or less affordabile over the entire time period. Let's try another visualization."
   ]
  },
  {
   "cell_type": "code",
   "execution_count": null,
   "metadata": {},
   "outputs": [],
   "source": [
    "sns.set(style=\"whitegrid\", rc={'figure.figsize':(7,8), 'font.size':10, 'axes.titlesize':20, 'axes.labelsize':17})\n",
    "sns.lineplot(x=\"Year\", y=\"Mortgage Affordability\", data=df2)"
   ]
  },
  {
   "cell_type": "markdown",
   "metadata": {},
   "source": [
    "#### Observations\n",
    "In our second visualization, we can again see that affordability varies greatly over our 17 year period. The line plot shows a large decrease in affordability peaking at 2006, and then a large increase in affordability peaking at 2012. It is still not easy to tell whether the graph trend is increasing or decreasing in affordability overall."
   ]
  },
  {
   "cell_type": "code",
   "execution_count": null,
   "metadata": {},
   "outputs": [],
   "source": [
    "sns.lmplot(data=df2, x='Year', y='Mortgage Affordability', fit_reg=False, height=3.5, aspect=1.5)"
   ]
  },
  {
   "cell_type": "markdown",
   "metadata": {},
   "source": [
    "#### Observations\n",
    "Out third visualization is very similar to our second one, however using a scatterplot makes it easier to see each year on the graph, and shows a more accurate representation of our graph."
   ]
  },
  {
   "cell_type": "code",
   "execution_count": null,
   "metadata": {},
   "outputs": [],
   "source": [
    "sns.lmplot(data=df2, x='Year', y='Mortgage Affordability', line_kws={'color': 'g'}, height=3.5, aspect=1.5)"
   ]
  },
  {
   "cell_type": "markdown",
   "metadata": {},
   "source": [
    "#### Observations\n",
    "Our final visualization is the same as our third visualization, however it now includes a line of regression. The line shows a clear trend in our data, and we can now see that the affordability is increasing over our time period. This visualization also shows our original data plots, so we can still se he variations in affordability over time."
   ]
  },
  {
   "cell_type": "markdown",
   "metadata": {},
   "source": [
    "#### Conclusion\n",
    "From our observations, we can conclude that the affordability of a mortgage in accross the USA varies greatly over time. We can also conclude that in our 17 year time period, mortgage affordability follows an overall trend of becoming increasingly affordable."
   ]
  }
 ],
 "metadata": {
  "kernelspec": {
   "display_name": "Python 3 (ipykernel)",
   "language": "python",
   "name": "python3"
  }
 },
 "nbformat": 4,
 "nbformat_minor": 4
}

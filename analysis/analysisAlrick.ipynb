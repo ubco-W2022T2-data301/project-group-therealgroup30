{
 "cells": [
  {
   "cell_type": "markdown",
   "metadata": {},
   "source": [
    "# Alrick Vincent"
   ]
  },
  {
   "cell_type": "markdown",
   "metadata": {},
   "source": [
    "## Research question/interests\n",
    "\n",
    "- This data represents the average mortgage divided by the average income per tier and city. We are given each individual city's population rank relative to this dataset, therefore we could ask ourselves: **Is there a correlation between a city's population and its mortage/income ratio?** (the higher the ratio, the worse). The first step to this analysis would be to average each city's tier, obtain a big picture of the city's mortgage/income ratio. Once averaged and grouped by city, we can visualize the data by plotting different types of graphs using seaborne and matlab plot. Visualizing that data wil allow us to identify common patterns and whether or not trend lines are dependent on the population rank. This research angle can be expanded on by not averaging tiers and conducting further analysis per tier in every city.\n",
    "- Another interesting research aspect would be to **predict future morgage/income ratio values**. The analysis plan for this research would require plotting a linear trend for each city and then finding the linear equation in slope-intercept form. We can then reduce each data to a decimal starting from 1999-06-30 as 0, and predict future data using the linear equation."
   ]
  },
  {
   "cell_type": "markdown",
   "metadata": {},
   "source": [
    "## Dataset loading "
   ]
  },
  {
   "cell_type": "code",
   "execution_count": null,
   "metadata": {},
   "outputs": [],
   "source": [
    "import pandas as pd"
   ]
  },
  {
   "cell_type": "code",
   "execution_count": null,
   "metadata": {},
   "outputs": [],
   "source": [
    "df = pd.read_csv('../data/raw/TieredAffordability_Mortgage.csv')\n",
    "df"
   ]
  }
 ],
 "metadata": {
  "kernelspec": {
   "display_name": "Python 3 (ipykernel)",
   "language": "python",
   "name": "python3"
  }
 },
 "nbformat": 4,
 "nbformat_minor": 4
}
